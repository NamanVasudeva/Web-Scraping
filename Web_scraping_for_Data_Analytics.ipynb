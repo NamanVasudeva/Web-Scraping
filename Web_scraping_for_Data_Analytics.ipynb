{
  "cells": [
    {
      "cell_type": "markdown",
      "metadata": {
        "id": "6k5NItpZSdWn"
      },
      "source": [
        "# **Web Scraping**\n"
      ]
    },
    {
      "cell_type": "code",
      "execution_count": 1,
      "metadata": {
        "colab": {
          "base_uri": "https://localhost:8080/"
        },
        "id": "uxHYz0SSSdWp",
        "outputId": "ea6848cb-22bc-4009-81c9-26c779cae2fe"
      },
      "outputs": [
        {
          "output_type": "stream",
          "name": "stdout",
          "text": [
            "/bin/bash: mamba: command not found\n",
            "Collecting lxml==4.6.4\n",
            "  Downloading lxml-4.6.4-cp37-cp37m-manylinux_2_17_x86_64.manylinux2014_x86_64.manylinux_2_24_x86_64.whl (6.3 MB)\n",
            "\u001b[K     |████████████████████████████████| 6.3 MB 3.7 MB/s \n",
            "\u001b[?25hInstalling collected packages: lxml\n",
            "  Attempting uninstall: lxml\n",
            "    Found existing installation: lxml 4.2.6\n",
            "    Uninstalling lxml-4.2.6:\n",
            "      Successfully uninstalled lxml-4.2.6\n",
            "Successfully installed lxml-4.6.4\n",
            "/bin/bash: mamba: command not found\n"
          ]
        }
      ],
      "source": [
        "#importing libraries\n",
        "!mamba install bs4==4.10.0 -y\n",
        "!pip install lxml==4.6.4\n",
        "!mamba install html5lib==1.1 -y\n",
        "# !pip install requests==2.26.0"
      ]
    },
    {
      "cell_type": "markdown",
      "metadata": {
        "id": "_6zctl0FSdWq"
      },
      "source": [
        "Import the required modules and functions\n"
      ]
    },
    {
      "cell_type": "code",
      "execution_count": 2,
      "metadata": {
        "id": "OzyRASAaSdWq"
      },
      "outputs": [],
      "source": [
        "from bs4 import BeautifulSoup # this module helps in web scrapping.\n",
        "import requests  # this module helps us to download a web page"
      ]
    },
    {
      "cell_type": "markdown",
      "metadata": {
        "id": "0_XsSTwBSdWq"
      },
      "source": [
        "<h2 id=\"BSO\">Beautiful Soup Objects</h2>\n"
      ]
    },
    {
      "cell_type": "markdown",
      "metadata": {
        "id": "asB3NLbYSdWr"
      },
      "source": [
        "Beautiful Soup is a Python library for pulling data out of HTML and XML files, we will focus on HTML files. This is accomplished by representing the HTML as a set of objects with methods used to parse the HTML.  We can navigate the HTML as a tree and/or filter out what we are looking for.\n"
      ]
    },
    {
      "cell_type": "code",
      "execution_count": 3,
      "metadata": {
        "colab": {
          "base_uri": "https://localhost:8080/",
          "height": 203
        },
        "id": "Fl_WrP0KSdWr",
        "outputId": "953ce56a-3828-4c87-a851-3a34564a49e2"
      },
      "outputs": [
        {
          "output_type": "display_data",
          "data": {
            "text/plain": [
              "<IPython.core.display.HTML object>"
            ],
            "text/html": [
              "<!DOCTYPE html>\n",
              "<html>\n",
              "<head>\n",
              "<title>Page Title</title>\n",
              "</head>\n",
              "<body>\n",
              "<h3><b id='boldest'>Lionel Messi</b></h3>\n",
              "<p> Salary: $ 130,000,000 </p>\n",
              "<h3> Lebron James</h3>\n",
              "<p> Salary: $121,200, 000 </p>\n",
              "<h3> Cristiano Ronaldo </h3>\n",
              "<p> Salary: $115,000, 000</p>\n",
              "</body>\n",
              "</html>"
            ]
          },
          "metadata": {}
        }
      ],
      "source": [
        "%%html\n",
        "<!DOCTYPE html>\n",
        "<html>\n",
        "<head>\n",
        "<title>Page Title</title>\n",
        "</head>\n",
        "<body>\n",
        "<h3><b id='boldest'>Lionel Messi</b></h3>\n",
        "<p> Salary: $ 130,000,000 </p>\n",
        "<h3> Lebron James</h3>\n",
        "<p> Salary: $121,200, 000 </p>\n",
        "<h3> Cristiano Ronaldo </h3>\n",
        "<p> Salary: $115,000, 000</p>\n",
        "</body>\n",
        "</html>"
      ]
    },
    {
      "cell_type": "markdown",
      "metadata": {
        "id": "a4HwLNtnSdWs"
      },
      "source": [
        "We can store it as a string in the variable HTML:\n"
      ]
    },
    {
      "cell_type": "code",
      "execution_count": 4,
      "metadata": {
        "id": "jZasEv39SdWs"
      },
      "outputs": [],
      "source": [
        "html=\"<!DOCTYPE html><html><head><title>Page Title</title></head><body><h3><b id='boldest'>Lebron James</b></h3><p> Salary: $ 92,000,000 </p><h3> Stephen Curry</h3><p> Salary: $85,000, 000 </p><h3> Kevin Durant </h3><p> Salary: $73,200, 000</p></body></html>\""
      ]
    },
    {
      "cell_type": "markdown",
      "metadata": {
        "id": "0mUaruEzSdWs"
      },
      "source": [
        "To parse a document, pass it into the <code>BeautifulSoup</code> constructor, the <code>BeautifulSoup</code> object, which represents the document as a nested data structure:\n"
      ]
    },
    {
      "cell_type": "code",
      "execution_count": 5,
      "metadata": {
        "id": "Ln-34VP8SdWt"
      },
      "outputs": [],
      "source": [
        "soup = BeautifulSoup(html, \"html.parser\")"
      ]
    },
    {
      "cell_type": "markdown",
      "metadata": {
        "id": "5Qz5eWldSdWt"
      },
      "source": [
        "First, the document is converted to Unicode, (similar to ASCII),  and HTML entities are converted to Unicode characters. Beautiful Soup transforms a complex HTML document into a complex tree of Python objects. The <code>BeautifulSoup</code> object can create other types of objects. "
      ]
    },
    {
      "cell_type": "markdown",
      "metadata": {
        "id": "GJ2jnlAoSdWt"
      },
      "source": [
        "We can use the method <code>prettify()</code> to display the HTML in the nested structure:\n"
      ]
    },
    {
      "cell_type": "code",
      "execution_count": 6,
      "metadata": {
        "colab": {
          "base_uri": "https://localhost:8080/"
        },
        "id": "9e99sDo8SdWt",
        "outputId": "e0804f7d-3c7f-4122-d250-b4f8e0be49ff"
      },
      "outputs": [
        {
          "output_type": "stream",
          "name": "stdout",
          "text": [
            "<!DOCTYPE html>\n",
            "<html>\n",
            " <head>\n",
            "  <title>\n",
            "   Page Title\n",
            "  </title>\n",
            " </head>\n",
            " <body>\n",
            "  <h3>\n",
            "   <b id=\"boldest\">\n",
            "    Lebron James\n",
            "   </b>\n",
            "  </h3>\n",
            "  <p>\n",
            "   Salary: $ 92,000,000\n",
            "  </p>\n",
            "  <h3>\n",
            "   Stephen Curry\n",
            "  </h3>\n",
            "  <p>\n",
            "   Salary: $85,000, 000\n",
            "  </p>\n",
            "  <h3>\n",
            "   Kevin Durant\n",
            "  </h3>\n",
            "  <p>\n",
            "   Salary: $73,200, 000\n",
            "  </p>\n",
            " </body>\n",
            "</html>\n"
          ]
        }
      ],
      "source": [
        "print(soup.prettify())"
      ]
    },
    {
      "cell_type": "markdown",
      "metadata": {
        "id": "g1DNESl5SdWt"
      },
      "source": [
        "## Tags\n"
      ]
    },
    {
      "cell_type": "markdown",
      "metadata": {
        "id": "95l_WeU5SdWu"
      },
      "source": [
        "Let's say we want the  title of the page and the name of the top paid player we can use the <code>Tag</code>. The <code>Tag</code> object corresponds to an HTML tag in the original document, for example, the tag title.\n"
      ]
    },
    {
      "cell_type": "code",
      "execution_count": 7,
      "metadata": {
        "colab": {
          "base_uri": "https://localhost:8080/"
        },
        "id": "swtK5SUESdWu",
        "outputId": "80909156-4139-476c-fc5a-40403b66a10d"
      },
      "outputs": [
        {
          "output_type": "stream",
          "name": "stdout",
          "text": [
            "tag object: <title>Page Title</title>\n"
          ]
        }
      ],
      "source": [
        "tag_object=soup.title\n",
        "print(\"tag object:\",tag_object)"
      ]
    },
    {
      "cell_type": "markdown",
      "metadata": {
        "id": "iw8IlmX0SdWu"
      },
      "source": [
        "we can see the type of <code>Tag</code>\n"
      ]
    },
    {
      "cell_type": "code",
      "execution_count": 8,
      "metadata": {
        "colab": {
          "base_uri": "https://localhost:8080/"
        },
        "id": "hsydwtVuSdWu",
        "outputId": "ad8f67b1-adfc-465c-cce6-c7ed518daad3"
      },
      "outputs": [
        {
          "output_type": "stream",
          "name": "stdout",
          "text": [
            "tag object type: <class 'bs4.element.Tag'>\n"
          ]
        }
      ],
      "source": [
        "print(\"tag object type:\",type(tag_object))"
      ]
    },
    {
      "cell_type": "markdown",
      "metadata": {
        "id": "n30wpZbKSdWu"
      },
      "source": [
        "If there is more than one <code>Tag</code>  with the same name, the first element with that <code>Tag</code> name is called, this corresponds to the most paid player:\n"
      ]
    },
    {
      "cell_type": "code",
      "execution_count": 9,
      "metadata": {
        "colab": {
          "base_uri": "https://localhost:8080/"
        },
        "id": "5EpUB3jcSdWu",
        "outputId": "3ea9a3f3-b3e1-4e39-8eee-8c36964c8d17"
      },
      "outputs": [
        {
          "output_type": "execute_result",
          "data": {
            "text/plain": [
              "<h3><b id=\"boldest\">Lebron James</b></h3>"
            ]
          },
          "metadata": {},
          "execution_count": 9
        }
      ],
      "source": [
        "tag_object=soup.h3\n",
        "tag_object"
      ]
    },
    {
      "cell_type": "markdown",
      "metadata": {
        "id": "xJFB-s0HSdWv"
      },
      "source": [
        "Enclosed in the bold attribute <code>b</code>, it helps to use the tree representation. We can navigate down the tree using the child attribute to get the name.\n"
      ]
    },
    {
      "cell_type": "markdown",
      "metadata": {
        "id": "ei1d-95VSdWv"
      },
      "source": [
        "### Children, Parents, and Siblings\n"
      ]
    },
    {
      "cell_type": "markdown",
      "metadata": {
        "id": "_RkgmlMZSdWv"
      },
      "source": [
        "As stated above the <code>Tag</code> object is a tree of objects we can access the child of the tag or navigate down the branch as follows:\n"
      ]
    },
    {
      "cell_type": "code",
      "execution_count": 10,
      "metadata": {
        "colab": {
          "base_uri": "https://localhost:8080/"
        },
        "id": "PX42c6FSSdWv",
        "outputId": "7da2af28-daaa-43f9-e39b-073e65396471"
      },
      "outputs": [
        {
          "output_type": "execute_result",
          "data": {
            "text/plain": [
              "<b id=\"boldest\">Lebron James</b>"
            ]
          },
          "metadata": {},
          "execution_count": 10
        }
      ],
      "source": [
        "tag_child =tag_object.b\n",
        "tag_child"
      ]
    },
    {
      "cell_type": "markdown",
      "metadata": {
        "id": "za5GzhdESdWv"
      },
      "source": [
        "We can access the parent tag with the <code> parent</code>\n"
      ]
    },
    {
      "cell_type": "code",
      "execution_count": 11,
      "metadata": {
        "colab": {
          "base_uri": "https://localhost:8080/"
        },
        "id": "1E5ysW3YSdWv",
        "outputId": "63323cfe-e39d-4d2d-da1b-e342972f908f"
      },
      "outputs": [
        {
          "output_type": "execute_result",
          "data": {
            "text/plain": [
              "<h3><b id=\"boldest\">Lebron James</b></h3>"
            ]
          },
          "metadata": {},
          "execution_count": 11
        }
      ],
      "source": [
        "parent_tag=tag_child.parent\n",
        "parent_tag"
      ]
    },
    {
      "cell_type": "markdown",
      "metadata": {
        "id": "jY4ovlyGSdWv"
      },
      "source": [
        "this is identical to\n"
      ]
    },
    {
      "cell_type": "code",
      "execution_count": 12,
      "metadata": {
        "colab": {
          "base_uri": "https://localhost:8080/"
        },
        "id": "0r9PM1wASdWv",
        "outputId": "0c69ebcd-0153-4f93-810e-252a3300e12a"
      },
      "outputs": [
        {
          "output_type": "execute_result",
          "data": {
            "text/plain": [
              "<h3><b id=\"boldest\">Lebron James</b></h3>"
            ]
          },
          "metadata": {},
          "execution_count": 12
        }
      ],
      "source": [
        "tag_object"
      ]
    },
    {
      "cell_type": "markdown",
      "metadata": {
        "id": "zCevPeAASdWw"
      },
      "source": [
        "<code>tag_object</code> parent is the <code>body</code> element.\n"
      ]
    },
    {
      "cell_type": "code",
      "execution_count": 13,
      "metadata": {
        "colab": {
          "base_uri": "https://localhost:8080/"
        },
        "id": "dziLEoHPSdWw",
        "outputId": "53a84865-cd2c-44ef-9730-32383e90fd94"
      },
      "outputs": [
        {
          "output_type": "execute_result",
          "data": {
            "text/plain": [
              "<body><h3><b id=\"boldest\">Lebron James</b></h3><p> Salary: $ 92,000,000 </p><h3> Stephen Curry</h3><p> Salary: $85,000, 000 </p><h3> Kevin Durant </h3><p> Salary: $73,200, 000</p></body>"
            ]
          },
          "metadata": {},
          "execution_count": 13
        }
      ],
      "source": [
        "tag_object.parent"
      ]
    },
    {
      "cell_type": "markdown",
      "metadata": {
        "id": "BOXnlDe9SdWw"
      },
      "source": [
        "<code>tag_object</code> sibling is the <code>paragraph</code> element\n"
      ]
    },
    {
      "cell_type": "code",
      "execution_count": 14,
      "metadata": {
        "colab": {
          "base_uri": "https://localhost:8080/"
        },
        "id": "NTRk7920SdWw",
        "outputId": "baba392b-fb0a-4720-9350-c95222dea743"
      },
      "outputs": [
        {
          "output_type": "execute_result",
          "data": {
            "text/plain": [
              "<p> Salary: $ 92,000,000 </p>"
            ]
          },
          "metadata": {},
          "execution_count": 14
        }
      ],
      "source": [
        "sibling_1=tag_object.next_sibling\n",
        "sibling_1"
      ]
    },
    {
      "cell_type": "markdown",
      "metadata": {
        "id": "6Bl4YqkvSdWx"
      },
      "source": [
        "`sibling_2` is the `header` element which is also a sibling of both `sibling_1` and `tag_object`\n"
      ]
    },
    {
      "cell_type": "code",
      "execution_count": 15,
      "metadata": {
        "colab": {
          "base_uri": "https://localhost:8080/"
        },
        "id": "l8P66rtGSdWx",
        "outputId": "46dcd54d-e38b-4d95-d5c6-6cfe8337998f"
      },
      "outputs": [
        {
          "output_type": "execute_result",
          "data": {
            "text/plain": [
              "<h3> Stephen Curry</h3>"
            ]
          },
          "metadata": {},
          "execution_count": 15
        }
      ],
      "source": [
        "sibling_2=sibling_1.next_sibling\n",
        "sibling_2"
      ]
    },
    {
      "cell_type": "markdown",
      "metadata": {
        "id": "I7xrZXlXSdWx"
      },
      "source": [
        "Using the object <code>sibling\\_2</code> and the property <code>next_sibling</code> to find the salary of Stephen Curry:\n"
      ]
    },
    {
      "cell_type": "code",
      "execution_count": 16,
      "metadata": {
        "id": "qHGHlp9rSdWx",
        "colab": {
          "base_uri": "https://localhost:8080/"
        },
        "outputId": "100baffa-20a1-42ac-97bc-a067a2361678"
      },
      "outputs": [
        {
          "output_type": "execute_result",
          "data": {
            "text/plain": [
              "<p> Salary: $85,000, 000 </p>"
            ]
          },
          "metadata": {},
          "execution_count": 16
        }
      ],
      "source": [
        "sibling_3=sibling_2.next_sibling\n",
        "sibling_3"
      ]
    },
    {
      "cell_type": "markdown",
      "metadata": {
        "id": "a_ON957kSdWx"
      },
      "source": [
        "### HTML Attributes\n"
      ]
    },
    {
      "cell_type": "markdown",
      "metadata": {
        "id": "5UrV6oqbSdWx"
      },
      "source": [
        "If the tag has attributes, the tag <code>id=\"boldest\"</code> has an attribute <code>id</code> whose value is <code>boldest</code>. We can access a tag’s attributes by treating the tag like a dictionary:\n"
      ]
    },
    {
      "cell_type": "code",
      "execution_count": 17,
      "metadata": {
        "colab": {
          "base_uri": "https://localhost:8080/",
          "height": 35
        },
        "id": "lMzxmYFaSdW7",
        "outputId": "19203e31-e287-441a-cfba-f1eda9be97f4"
      },
      "outputs": [
        {
          "output_type": "execute_result",
          "data": {
            "text/plain": [
              "'boldest'"
            ],
            "application/vnd.google.colaboratory.intrinsic+json": {
              "type": "string"
            }
          },
          "metadata": {},
          "execution_count": 17
        }
      ],
      "source": [
        "tag_child['id']"
      ]
    },
    {
      "cell_type": "markdown",
      "metadata": {
        "id": "0NM3WhO-SdW7"
      },
      "source": [
        "We can access that dictionary directly as <code>attrs</code>:\n"
      ]
    },
    {
      "cell_type": "code",
      "execution_count": 18,
      "metadata": {
        "colab": {
          "base_uri": "https://localhost:8080/"
        },
        "id": "lhPbox6wSdW7",
        "outputId": "02693990-1028-41d9-aefd-8d27b60ad7ad"
      },
      "outputs": [
        {
          "output_type": "execute_result",
          "data": {
            "text/plain": [
              "{'id': 'boldest'}"
            ]
          },
          "metadata": {},
          "execution_count": 18
        }
      ],
      "source": [
        "tag_child.attrs"
      ]
    },
    {
      "cell_type": "markdown",
      "metadata": {
        "id": "i3t7NlBKSdW7"
      },
      "source": [
        "We can also obtain the content if the attribute of the <code>tag</code> using the Python <code>get()</code> method.\n"
      ]
    },
    {
      "cell_type": "code",
      "execution_count": 19,
      "metadata": {
        "colab": {
          "base_uri": "https://localhost:8080/",
          "height": 35
        },
        "id": "xezPO0CdSdW7",
        "outputId": "d43b76ca-db43-44fa-84a6-d0b389e77543"
      },
      "outputs": [
        {
          "output_type": "execute_result",
          "data": {
            "text/plain": [
              "'boldest'"
            ],
            "application/vnd.google.colaboratory.intrinsic+json": {
              "type": "string"
            }
          },
          "metadata": {},
          "execution_count": 19
        }
      ],
      "source": [
        "tag_child.get('id')"
      ]
    },
    {
      "cell_type": "markdown",
      "metadata": {
        "id": "0kxABN-TSdW7"
      },
      "source": [
        "### Navigable String\n"
      ]
    },
    {
      "cell_type": "markdown",
      "metadata": {
        "id": "W6vot8aASdW8"
      },
      "source": [
        "A string corresponds to a bit of text or content within a tag. Beautiful Soup uses the <code>NavigableString</code> class to contain this text. In our HTML we can obtain the name of the first player by extracting the sting of the <code>Tag</code> object <code>tag_child</code> as follows:\n"
      ]
    },
    {
      "cell_type": "code",
      "execution_count": 20,
      "metadata": {
        "colab": {
          "base_uri": "https://localhost:8080/",
          "height": 0
        },
        "id": "2DXP3ix3SdW8",
        "outputId": "c561f1b4-89ae-4ab6-daed-a42c9ed6e25d"
      },
      "outputs": [
        {
          "output_type": "execute_result",
          "data": {
            "text/plain": [
              "'Lebron James'"
            ],
            "application/vnd.google.colaboratory.intrinsic+json": {
              "type": "string"
            }
          },
          "metadata": {},
          "execution_count": 20
        }
      ],
      "source": [
        "tag_string=tag_child.string\n",
        "tag_string"
      ]
    },
    {
      "cell_type": "markdown",
      "metadata": {
        "id": "S_T6827KSdW8"
      },
      "source": [
        "we can verify the type is Navigable String\n"
      ]
    },
    {
      "cell_type": "code",
      "execution_count": 21,
      "metadata": {
        "colab": {
          "base_uri": "https://localhost:8080/"
        },
        "id": "pQIcj_MBSdW8",
        "outputId": "0ff372ed-9118-4e23-c78e-4840d1cf6747"
      },
      "outputs": [
        {
          "output_type": "execute_result",
          "data": {
            "text/plain": [
              "bs4.element.NavigableString"
            ]
          },
          "metadata": {},
          "execution_count": 21
        }
      ],
      "source": [
        "type(tag_string)"
      ]
    },
    {
      "cell_type": "markdown",
      "metadata": {
        "id": "G3fnVUZwSdW8"
      },
      "source": [
        "A NavigableString is just like a Python string or Unicode string, to be more precise. The main difference is that it also supports some  <code>BeautifulSoup</code> features. We can covert it to sting object in Python:\n"
      ]
    },
    {
      "cell_type": "code",
      "execution_count": 22,
      "metadata": {
        "colab": {
          "base_uri": "https://localhost:8080/",
          "height": 0
        },
        "id": "xco-CQasSdW8",
        "outputId": "c36a4895-5ad1-4ac1-837c-24d4bf77b826"
      },
      "outputs": [
        {
          "output_type": "execute_result",
          "data": {
            "text/plain": [
              "'Lebron James'"
            ],
            "application/vnd.google.colaboratory.intrinsic+json": {
              "type": "string"
            }
          },
          "metadata": {},
          "execution_count": 22
        }
      ],
      "source": [
        "unicode_string = str(tag_string)\n",
        "unicode_string"
      ]
    },
    {
      "cell_type": "markdown",
      "metadata": {
        "id": "n5umI-RVSdW8"
      },
      "source": [
        "<h2 id=\"filter\">Filter</h2>\n"
      ]
    },
    {
      "cell_type": "markdown",
      "metadata": {
        "id": "wQQUZeTPSdW8"
      },
      "source": [
        "Filters allow us to find complex patterns, the simplest filter is a string. In this section we will pass a string to a different filter method and Beautiful Soup will perform a match against that exact string.  Consider the following HTML of rocket launchs:\n"
      ]
    },
    {
      "cell_type": "code",
      "execution_count": 23,
      "metadata": {
        "colab": {
          "base_uri": "https://localhost:8080/",
          "height": 0
        },
        "id": "pf0_Z6DySdW8",
        "outputId": "6b524997-c2c8-4cdd-eac7-5251023bfa67"
      },
      "outputs": [
        {
          "output_type": "display_data",
          "data": {
            "text/plain": [
              "<IPython.core.display.HTML object>"
            ],
            "text/html": [
              "<table>\n",
              "  <tr>\n",
              "    <td id='flight' >Flight No</td>\n",
              "    <td>Launch site</td> \n",
              "    <td>Payload mass</td>\n",
              "   </tr>\n",
              "  <tr> \n",
              "    <td>1</td>\n",
              "    <td><a href='https://en.wikipedia.org/wiki/Delhi'>Delhi</a></td>\n",
              "    <td>140 kg</td>\n",
              "  </tr>\n",
              "  <tr>\n",
              "    <td>2</td>\n",
              "    <td><a href='https://en.wikipedia.org/wiki/Mumbai'>Mumbai</a></td>\n",
              "    <td>100 kg</td>\n",
              "  </tr>\n",
              "  <tr>\n",
              "    <td>3</td>\n",
              "    <td><a href='https://en.wikipedia.org/wiki/Florida'>Florida<a> </td>\n",
              "    <td>80 kg</td>\n",
              "  </tr>\n",
              "</table>"
            ]
          },
          "metadata": {}
        }
      ],
      "source": [
        "%%html\n",
        "<table>\n",
        "  <tr>\n",
        "    <td id='flight' >Flight No</td>\n",
        "    <td>Launch site</td> \n",
        "    <td>Payload mass</td>\n",
        "   </tr>\n",
        "  <tr> \n",
        "    <td>1</td>\n",
        "    <td><a href='https://en.wikipedia.org/wiki/Delhi'>Delhi</a></td>\n",
        "    <td>140 kg</td>\n",
        "  </tr>\n",
        "  <tr>\n",
        "    <td>2</td>\n",
        "    <td><a href='https://en.wikipedia.org/wiki/Mumbai'>Mumbai</a></td>\n",
        "    <td>100 kg</td>\n",
        "  </tr>\n",
        "  <tr>\n",
        "    <td>3</td>\n",
        "    <td><a href='https://en.wikipedia.org/wiki/Florida'>Florida<a> </td>\n",
        "    <td>80 kg</td>\n",
        "  </tr>\n",
        "</table>"
      ]
    },
    {
      "cell_type": "markdown",
      "metadata": {
        "id": "uZTy8yEDSdW9"
      },
      "source": [
        "We can store it as a string in the variable <code>table</code>:\n"
      ]
    },
    {
      "cell_type": "code",
      "execution_count": 24,
      "metadata": {
        "id": "EO62USnUSdW9"
      },
      "outputs": [],
      "source": [
        "table=\"<table><tr><td id='flight'>Flight No</td><td>Launch site</td> <td>Payload mass</td></tr><tr> <td>1</td><td><a href='https://en.wikipedia.org/wiki/Delhi'>Delhi<a></td><td>140 kg</td></tr><tr><td>2</td><td><a href='https://en.wikipedia.org/wiki/Mumbai'>Mumbai</a></td><td>100 kg</td></tr><tr><td>3</td><td><a href='https://en.wikipedia.org/wiki/Florida'>Florida<a> </td><td>80 kg</td></tr></table>\""
      ]
    },
    {
      "cell_type": "code",
      "execution_count": 25,
      "metadata": {
        "id": "e42gzEhnSdW9",
        "colab": {
          "base_uri": "https://localhost:8080/"
        },
        "outputId": "c1d24022-90c8-4141-85a9-a343ae6811b7"
      },
      "outputs": [
        {
          "output_type": "execute_result",
          "data": {
            "text/plain": [
              "<table><tr><td id=\"flight\">Flight No</td><td>Launch site</td> <td>Payload mass</td></tr><tr> <td>1</td><td><a href=\"https://en.wikipedia.org/wiki/Delhi\">Delhi<a></a></a></td><td>140 kg</td></tr><tr><td>2</td><td><a href=\"https://en.wikipedia.org/wiki/Mumbai\">Mumbai</a></td><td>100 kg</td></tr><tr><td>3</td><td><a href=\"https://en.wikipedia.org/wiki/Florida\">Florida<a> </a></a></td><td>80 kg</td></tr></table>"
            ]
          },
          "metadata": {},
          "execution_count": 25
        }
      ],
      "source": [
        "table_bs = BeautifulSoup(table, \"html.parser\")\n",
        "table_bs"
      ]
    },
    {
      "cell_type": "markdown",
      "metadata": {
        "id": "AUS8gnBiSdW9"
      },
      "source": [
        "## find All\n"
      ]
    },
    {
      "cell_type": "markdown",
      "metadata": {
        "id": "svNRAx1PSdW9"
      },
      "source": [
        "The <code>find_all()</code> method looks through a tag’s descendants and retrieves all descendants that match your filters.\n",
        "\n",
        "<p>\n",
        "The Method signature for <code>find_all(name, attrs, recursive, string, limit, **kwargs)<c/ode>\n",
        "</p>\n"
      ]
    },
    {
      "cell_type": "markdown",
      "metadata": {
        "id": "h50DetSdSdW9"
      },
      "source": [
        "### Name\n"
      ]
    },
    {
      "cell_type": "markdown",
      "metadata": {
        "id": "ZLEsbrg2SdW9"
      },
      "source": [
        "When we set the <code>name</code> parameter to a tag name, the method will extract all the tags with that name and its children.\n"
      ]
    },
    {
      "cell_type": "code",
      "execution_count": 26,
      "metadata": {
        "colab": {
          "base_uri": "https://localhost:8080/"
        },
        "id": "KlrUnyDtSdW9",
        "outputId": "abcae762-8f39-4a59-963d-4cb70abd5ccf"
      },
      "outputs": [
        {
          "output_type": "execute_result",
          "data": {
            "text/plain": [
              "[<tr><td id=\"flight\">Flight No</td><td>Launch site</td> <td>Payload mass</td></tr>,\n",
              " <tr> <td>1</td><td><a href=\"https://en.wikipedia.org/wiki/Delhi\">Delhi<a></a></a></td><td>140 kg</td></tr>,\n",
              " <tr><td>2</td><td><a href=\"https://en.wikipedia.org/wiki/Mumbai\">Mumbai</a></td><td>100 kg</td></tr>,\n",
              " <tr><td>3</td><td><a href=\"https://en.wikipedia.org/wiki/Florida\">Florida<a> </a></a></td><td>80 kg</td></tr>]"
            ]
          },
          "metadata": {},
          "execution_count": 26
        }
      ],
      "source": [
        "table_rows=table_bs.find_all('tr')\n",
        "table_rows"
      ]
    },
    {
      "cell_type": "markdown",
      "metadata": {
        "id": "sb3ZoV8dSdW9"
      },
      "source": [
        "The result is a Python Iterable just like a list, each element is a <code>tag</code> object:\n"
      ]
    },
    {
      "cell_type": "code",
      "execution_count": 27,
      "metadata": {
        "colab": {
          "base_uri": "https://localhost:8080/"
        },
        "id": "thbFzjkASdW9",
        "outputId": "9382f4db-4c94-4507-ab35-4e0b1fd40e1f"
      },
      "outputs": [
        {
          "output_type": "execute_result",
          "data": {
            "text/plain": [
              "<tr><td id=\"flight\">Flight No</td><td>Launch site</td> <td>Payload mass</td></tr>"
            ]
          },
          "metadata": {},
          "execution_count": 27
        }
      ],
      "source": [
        "first_row =table_rows[0]\n",
        "first_row"
      ]
    },
    {
      "cell_type": "markdown",
      "metadata": {
        "id": "7BRLR4SPSdW9"
      },
      "source": [
        "The type is <code>tag</code>\n"
      ]
    },
    {
      "cell_type": "code",
      "execution_count": 28,
      "metadata": {
        "colab": {
          "base_uri": "https://localhost:8080/"
        },
        "id": "AS98H78FSdW-",
        "outputId": "41ff2c0a-640b-4933-aafe-005b3104d6c2"
      },
      "outputs": [
        {
          "output_type": "stream",
          "name": "stdout",
          "text": [
            "<class 'bs4.element.Tag'>\n"
          ]
        }
      ],
      "source": [
        "print(type(first_row))"
      ]
    },
    {
      "cell_type": "markdown",
      "metadata": {
        "id": "pj7fcVtfSdW_"
      },
      "source": [
        "we can obtain the child\n"
      ]
    },
    {
      "cell_type": "code",
      "execution_count": 29,
      "metadata": {
        "colab": {
          "base_uri": "https://localhost:8080/"
        },
        "id": "P5gqMdj2SdW_",
        "outputId": "db67d8bf-2efc-46c4-a3eb-b729c478660c"
      },
      "outputs": [
        {
          "output_type": "execute_result",
          "data": {
            "text/plain": [
              "<td id=\"flight\">Flight No</td>"
            ]
          },
          "metadata": {},
          "execution_count": 29
        }
      ],
      "source": [
        "first_row.td"
      ]
    },
    {
      "cell_type": "markdown",
      "metadata": {
        "id": "0Qj30O7ESdW_"
      },
      "source": [
        "If we iterate through the list, each element corresponds to a row in the table:\n"
      ]
    },
    {
      "cell_type": "code",
      "execution_count": 30,
      "metadata": {
        "colab": {
          "base_uri": "https://localhost:8080/"
        },
        "id": "f_w8WjAiSdW_",
        "outputId": "dee20245-47f9-4200-f749-11e56b5a3e43"
      },
      "outputs": [
        {
          "output_type": "stream",
          "name": "stdout",
          "text": [
            "row 0 is <tr><td id=\"flight\">Flight No</td><td>Launch site</td> <td>Payload mass</td></tr>\n",
            "row 1 is <tr> <td>1</td><td><a href=\"https://en.wikipedia.org/wiki/Delhi\">Delhi<a></a></a></td><td>140 kg</td></tr>\n",
            "row 2 is <tr><td>2</td><td><a href=\"https://en.wikipedia.org/wiki/Mumbai\">Mumbai</a></td><td>100 kg</td></tr>\n",
            "row 3 is <tr><td>3</td><td><a href=\"https://en.wikipedia.org/wiki/Florida\">Florida<a> </a></a></td><td>80 kg</td></tr>\n"
          ]
        }
      ],
      "source": [
        "for i,row in enumerate(table_rows):\n",
        "    print(\"row\",i,\"is\",row)\n",
        "    "
      ]
    },
    {
      "cell_type": "markdown",
      "metadata": {
        "id": "SYymouObSdW_"
      },
      "source": [
        "As <code>row</code> is a <code>cell</code> object, we can apply the method <code>find_all</code> to it and extract table cells in the object <code>cells</code> using the tag <code>td</code>, this is all the children with the name <code>td</code>. The result is a list, each element corresponds to a cell and is a <code>Tag</code> object, we can iterate through this list as well. We can extract the content using the <code>string</code>  attribute.\n"
      ]
    },
    {
      "cell_type": "code",
      "execution_count": 31,
      "metadata": {
        "colab": {
          "base_uri": "https://localhost:8080/"
        },
        "id": "rAJkgJQkSdW_",
        "outputId": "b80a583e-5844-43a0-d819-b71c8ef8b3e4"
      },
      "outputs": [
        {
          "output_type": "stream",
          "name": "stdout",
          "text": [
            "row 0\n",
            "colunm 0 cell <td id=\"flight\">Flight No</td>\n",
            "colunm 1 cell <td>Launch site</td>\n",
            "colunm 2 cell <td>Payload mass</td>\n",
            "row 1\n",
            "colunm 0 cell <td>1</td>\n",
            "colunm 1 cell <td><a href=\"https://en.wikipedia.org/wiki/Delhi\">Delhi<a></a></a></td>\n",
            "colunm 2 cell <td>140 kg</td>\n",
            "row 2\n",
            "colunm 0 cell <td>2</td>\n",
            "colunm 1 cell <td><a href=\"https://en.wikipedia.org/wiki/Mumbai\">Mumbai</a></td>\n",
            "colunm 2 cell <td>100 kg</td>\n",
            "row 3\n",
            "colunm 0 cell <td>3</td>\n",
            "colunm 1 cell <td><a href=\"https://en.wikipedia.org/wiki/Florida\">Florida<a> </a></a></td>\n",
            "colunm 2 cell <td>80 kg</td>\n"
          ]
        }
      ],
      "source": [
        "for i,row in enumerate(table_rows):\n",
        "    print(\"row\",i)\n",
        "    cells=row.find_all('td')\n",
        "    for j,cell in enumerate(cells):\n",
        "        print('colunm',j,\"cell\",cell)"
      ]
    },
    {
      "cell_type": "markdown",
      "metadata": {
        "id": "SaEa8U4mSdW_"
      },
      "source": [
        "If we use a list we can match against any item in that list.\n"
      ]
    },
    {
      "cell_type": "code",
      "execution_count": 32,
      "metadata": {
        "colab": {
          "base_uri": "https://localhost:8080/"
        },
        "id": "rLIfcN51SdW_",
        "outputId": "354638b2-909a-47a0-d859-c575c6b6e373"
      },
      "outputs": [
        {
          "output_type": "execute_result",
          "data": {
            "text/plain": [
              "[<tr><td id=\"flight\">Flight No</td><td>Launch site</td> <td>Payload mass</td></tr>,\n",
              " <td id=\"flight\">Flight No</td>,\n",
              " <td>Launch site</td>,\n",
              " <td>Payload mass</td>,\n",
              " <tr> <td>1</td><td><a href=\"https://en.wikipedia.org/wiki/Delhi\">Delhi<a></a></a></td><td>140 kg</td></tr>,\n",
              " <td>1</td>,\n",
              " <td><a href=\"https://en.wikipedia.org/wiki/Delhi\">Delhi<a></a></a></td>,\n",
              " <td>140 kg</td>,\n",
              " <tr><td>2</td><td><a href=\"https://en.wikipedia.org/wiki/Mumbai\">Mumbai</a></td><td>100 kg</td></tr>,\n",
              " <td>2</td>,\n",
              " <td><a href=\"https://en.wikipedia.org/wiki/Mumbai\">Mumbai</a></td>,\n",
              " <td>100 kg</td>,\n",
              " <tr><td>3</td><td><a href=\"https://en.wikipedia.org/wiki/Florida\">Florida<a> </a></a></td><td>80 kg</td></tr>,\n",
              " <td>3</td>,\n",
              " <td><a href=\"https://en.wikipedia.org/wiki/Florida\">Florida<a> </a></a></td>,\n",
              " <td>80 kg</td>]"
            ]
          },
          "metadata": {},
          "execution_count": 32
        }
      ],
      "source": [
        "list_input=table_bs .find_all(name=[\"tr\", \"td\"])\n",
        "list_input"
      ]
    },
    {
      "cell_type": "markdown",
      "metadata": {
        "id": "KRzgR4doSdW_"
      },
      "source": [
        "## Attributes\n"
      ]
    },
    {
      "cell_type": "markdown",
      "metadata": {
        "id": "9o1s1ehaSdW_"
      },
      "source": [
        "If the argument is not recognized it will be turned into a filter on the tag’s attributes. For example the <code>id</code>  argument, Beautiful Soup will filter against each tag’s <code>id</code> attribute. For example, the first <code>td</code> elements have a value of <code>id</code> of <code>flight</code>, therefore we can filter based on that <code>id</code> value.\n"
      ]
    },
    {
      "cell_type": "code",
      "execution_count": 33,
      "metadata": {
        "colab": {
          "base_uri": "https://localhost:8080/"
        },
        "id": "bbl-77XwSdW_",
        "outputId": "411ce100-6d53-479e-a61c-103c02a9bbf5"
      },
      "outputs": [
        {
          "output_type": "execute_result",
          "data": {
            "text/plain": [
              "[<td id=\"flight\">Flight No</td>]"
            ]
          },
          "metadata": {},
          "execution_count": 33
        }
      ],
      "source": [
        "table_bs.find_all(id=\"flight\")"
      ]
    },
    {
      "cell_type": "markdown",
      "metadata": {
        "id": "W9dOVA5fSdXA"
      },
      "source": [
        "We can find all the elements that have links to the \n",
        "\n",
        "---\n",
        "\n",
        "Delhi Wikipedia page:\n"
      ]
    },
    {
      "cell_type": "code",
      "execution_count": 64,
      "metadata": {
        "colab": {
          "base_uri": "https://localhost:8080/"
        },
        "id": "AJf46fMkSdXA",
        "outputId": "2998ec6f-c12c-468d-d0ec-6562145acd64"
      },
      "outputs": [
        {
          "output_type": "execute_result",
          "data": {
            "text/plain": [
              "[<a href=\"https://en.wikipedia.org/wiki/Delhi\">Delhi<a></a></a>]"
            ]
          },
          "metadata": {},
          "execution_count": 64
        }
      ],
      "source": [
        "list_input=table_bs.find_all(href=\"https://en.wikipedia.org/wiki/Delhi\")\n",
        "list_input"
      ]
    },
    {
      "cell_type": "markdown",
      "metadata": {
        "id": "3mq-5XIWSdXA"
      },
      "source": [
        "If we set the  <code>href</code> attribute to True, regardless of what the value is, the code finds all tags with <code>href</code> value:\n"
      ]
    },
    {
      "cell_type": "code",
      "execution_count": 65,
      "metadata": {
        "colab": {
          "base_uri": "https://localhost:8080/"
        },
        "id": "Bhyt9G9QSdXA",
        "outputId": "34d0ef1e-211c-4460-d43f-f033805032fb"
      },
      "outputs": [
        {
          "output_type": "execute_result",
          "data": {
            "text/plain": [
              "[<a href=\"https://en.wikipedia.org/wiki/Delhi\">Delhi<a></a></a>,\n",
              " <a href=\"https://en.wikipedia.org/wiki/Mumbai\">Mumbai</a>,\n",
              " <a href=\"https://en.wikipedia.org/wiki/Florida\">Florida<a> </a></a>]"
            ]
          },
          "metadata": {},
          "execution_count": 65
        }
      ],
      "source": [
        "table_bs.find_all(href=True)"
      ]
    },
    {
      "cell_type": "markdown",
      "metadata": {
        "id": "Abk98-W6SdXA"
      },
      "source": [
        "Using the logic above, find all the elements without <code>href</code> value\n"
      ]
    },
    {
      "cell_type": "code",
      "execution_count": 66,
      "metadata": {
        "colab": {
          "base_uri": "https://localhost:8080/"
        },
        "id": "HuHmyjTBSdXA",
        "outputId": "66bbe752-aee0-4e7b-875f-21fd98eb13e1"
      },
      "outputs": [
        {
          "output_type": "execute_result",
          "data": {
            "text/plain": [
              "[<table><tr><td id=\"flight\">Flight No</td><td>Launch site</td> <td>Payload mass</td></tr><tr> <td>1</td><td><a href=\"https://en.wikipedia.org/wiki/Delhi\">Delhi<a></a></a></td><td>140 kg</td></tr><tr><td>2</td><td><a href=\"https://en.wikipedia.org/wiki/Mumbai\">Mumbai</a></td><td>100 kg</td></tr><tr><td>3</td><td><a href=\"https://en.wikipedia.org/wiki/Florida\">Florida<a> </a></a></td><td>80 kg</td></tr></table>,\n",
              " <tr><td id=\"flight\">Flight No</td><td>Launch site</td> <td>Payload mass</td></tr>,\n",
              " <td id=\"flight\">Flight No</td>,\n",
              " <td>Launch site</td>,\n",
              " <td>Payload mass</td>,\n",
              " <tr> <td>1</td><td><a href=\"https://en.wikipedia.org/wiki/Delhi\">Delhi<a></a></a></td><td>140 kg</td></tr>,\n",
              " <td>1</td>,\n",
              " <td><a href=\"https://en.wikipedia.org/wiki/Delhi\">Delhi<a></a></a></td>,\n",
              " <a></a>,\n",
              " <td>140 kg</td>,\n",
              " <tr><td>2</td><td><a href=\"https://en.wikipedia.org/wiki/Mumbai\">Mumbai</a></td><td>100 kg</td></tr>,\n",
              " <td>2</td>,\n",
              " <td><a href=\"https://en.wikipedia.org/wiki/Mumbai\">Mumbai</a></td>,\n",
              " <td>100 kg</td>,\n",
              " <tr><td>3</td><td><a href=\"https://en.wikipedia.org/wiki/Florida\">Florida<a> </a></a></td><td>80 kg</td></tr>,\n",
              " <td>3</td>,\n",
              " <td><a href=\"https://en.wikipedia.org/wiki/Florida\">Florida<a> </a></a></td>,\n",
              " <a> </a>,\n",
              " <td>80 kg</td>]"
            ]
          },
          "metadata": {},
          "execution_count": 66
        }
      ],
      "source": [
        "table_bs.find_all(href=False)\n"
      ]
    },
    {
      "cell_type": "markdown",
      "metadata": {
        "id": "Bia8W6khSdXA"
      },
      "source": [
        "Using the soup object <code>soup</code>, find the element with the <code>id</code> attribute content set to <code>\"boldest\"</code>.\n"
      ]
    },
    {
      "cell_type": "code",
      "execution_count": 37,
      "metadata": {
        "id": "a6zTpv0qSdXA",
        "colab": {
          "base_uri": "https://localhost:8080/"
        },
        "outputId": "fcff8b8c-d75e-4d55-9540-30b81309c96c"
      },
      "outputs": [
        {
          "output_type": "execute_result",
          "data": {
            "text/plain": [
              "[<b id=\"boldest\">Lebron James</b>]"
            ]
          },
          "metadata": {},
          "execution_count": 37
        }
      ],
      "source": [
        "soup.find_all(id=\"boldest\")"
      ]
    },
    {
      "cell_type": "markdown",
      "metadata": {
        "id": "9hqtfPDHSdXA"
      },
      "source": [
        "### string\n"
      ]
    },
    {
      "cell_type": "markdown",
      "metadata": {
        "id": "edkZ8dybSdXA"
      },
      "source": [
        "With string you can search for strings instead of tags, where we find all the elments with Florida:\n"
      ]
    },
    {
      "cell_type": "code",
      "execution_count": 38,
      "metadata": {
        "id": "omqJ-IwtSdXB",
        "outputId": "155d61a8-80f6-4d43-f7ee-29a6246d86f8",
        "colab": {
          "base_uri": "https://localhost:8080/"
        }
      },
      "outputs": [
        {
          "output_type": "execute_result",
          "data": {
            "text/plain": [
              "['Florida']"
            ]
          },
          "metadata": {},
          "execution_count": 38
        }
      ],
      "source": [
        "table_bs.find_all(string=\"Florida\")"
      ]
    },
    {
      "cell_type": "markdown",
      "metadata": {
        "id": "v7QWetS8SdXB"
      },
      "source": [
        "## find\n"
      ]
    },
    {
      "cell_type": "markdown",
      "metadata": {
        "id": "zInRdtgeSdXB"
      },
      "source": [
        "The <code>find_all()</code> method scans the entire document looking for results, it’s if you are looking for one element you can use the <code>find()</code> method to find the first element in the document. Consider the following two table:\n"
      ]
    },
    {
      "cell_type": "code",
      "execution_count": 39,
      "metadata": {
        "id": "HkTwllAsSdXB",
        "outputId": "d5772b8a-dc47-4629-8b7c-d10dd0fb8846",
        "colab": {
          "base_uri": "https://localhost:8080/",
          "height": 275
        }
      },
      "outputs": [
        {
          "output_type": "display_data",
          "data": {
            "text/plain": [
              "<IPython.core.display.HTML object>"
            ],
            "text/html": [
              "<h3>Rocket Launch </h3>\n",
              "\n",
              "<p>\n",
              "<table class='rocket'>\n",
              "  <tr>\n",
              "    <td>Flight No</td>\n",
              "    <td>Launch site</td> \n",
              "    <td>Payload mass</td>\n",
              "  </tr>\n",
              "  <tr>\n",
              "    <td>1</td>\n",
              "    <td>Delhi</td>\n",
              "    <td>140 kg</td>\n",
              "  </tr>\n",
              "  <tr>\n",
              "    <td>2</td>\n",
              "    <td>Mumbai</td>\n",
              "    <td>100 kg</td>\n",
              "  </tr>\n",
              "  <tr>\n",
              "    <td>3</td>\n",
              "    <td>Florida </td>\n",
              "    <td>80 kg</td>\n",
              "  </tr>\n",
              "</table>\n",
              "</p>\n",
              "<p>\n",
              "\n",
              "<h3>Pizza Party  </h3>\n",
              "  \n",
              "    \n",
              "<table class='pizza'>\n",
              "  <tr>\n",
              "    <td>Pizza Outlet</td>\n",
              "    <td>Orders</td> \n",
              "    <td>Slices </td>\n",
              "   </tr>\n",
              "  <tr>\n",
              "    <td>Domino's Pizza</td>\n",
              "    <td>10</td>\n",
              "    <td>100</td>\n",
              "  </tr>\n",
              "  <tr>\n",
              "    <td>La Pino</td>\n",
              "    <td>12</td>\n",
              "    <td >144 </td>\n",
              "  </tr>\n",
              "  <tr>\n",
              "    <td>Papa John's </td>\n",
              "    <td>15 </td>\n",
              "    <td>165</td>\n",
              "  </tr>"
            ]
          },
          "metadata": {}
        }
      ],
      "source": [
        "%%html\n",
        "<h3>Rocket Launch </h3>\n",
        "\n",
        "<p>\n",
        "<table class='rocket'>\n",
        "  <tr>\n",
        "    <td>Flight No</td>\n",
        "    <td>Launch site</td> \n",
        "    <td>Payload mass</td>\n",
        "  </tr>\n",
        "  <tr>\n",
        "    <td>1</td>\n",
        "    <td>Delhi</td>\n",
        "    <td>140 kg</td>\n",
        "  </tr>\n",
        "  <tr>\n",
        "    <td>2</td>\n",
        "    <td>Mumbai</td>\n",
        "    <td>100 kg</td>\n",
        "  </tr>\n",
        "  <tr>\n",
        "    <td>3</td>\n",
        "    <td>Florida </td>\n",
        "    <td>80 kg</td>\n",
        "  </tr>\n",
        "</table>\n",
        "</p>\n",
        "<p>\n",
        "\n",
        "<h3>Pizza Party  </h3>\n",
        "  \n",
        "    \n",
        "<table class='pizza'>\n",
        "  <tr>\n",
        "    <td>Pizza Outlet</td>\n",
        "    <td>Orders</td> \n",
        "    <td>Slices </td>\n",
        "   </tr>\n",
        "  <tr>\n",
        "    <td>Domino's Pizza</td>\n",
        "    <td>10</td>\n",
        "    <td>100</td>\n",
        "  </tr>\n",
        "  <tr>\n",
        "    <td>La Pino</td>\n",
        "    <td>12</td>\n",
        "    <td >144 </td>\n",
        "  </tr>\n",
        "  <tr>\n",
        "    <td>Papa John's </td>\n",
        "    <td>15 </td>\n",
        "    <td>165</td>\n",
        "  </tr>\n"
      ]
    },
    {
      "cell_type": "markdown",
      "metadata": {
        "id": "Jn4W4NbMSdXB"
      },
      "source": [
        "We store the HTML as a Python string and assign <code>two_tables</code>:\n"
      ]
    },
    {
      "cell_type": "code",
      "execution_count": 40,
      "metadata": {
        "id": "k03eBWIiSdXB"
      },
      "outputs": [],
      "source": [
        "two_tables=\"<h3>Rocket Launch </h3><p><table class='rocket'><tr><td>Flight No</td><td>Launch site</td> <td>Payload mass</td></tr><tr><td>1</td><td>Delhi</td><td>140 kg</td></tr><tr><td>2</td><td>Mumbai</td><td>100 kg</td></tr><tr><td>3</td><td>Florida </td><td>80 kg</td></tr></table></p><p><h3>Pizza Party  </h3><table class='pizza'><tr><td>Pizza Outlet</td><td>Orders</td> <td>Slices </td></tr><tr><td>Domino's Pizza</td><td>10</td><td>100</td></tr><tr><td>La Pino</td><td>12</td><td >144 </td></tr><tr><td>Papa John's </td><td>15 </td><td>165</td></tr>\""
      ]
    },
    {
      "cell_type": "markdown",
      "metadata": {
        "id": "QeQwqth7SdXB"
      },
      "source": [
        "We create a <code>BeautifulSoup</code> object  <code>two_tables_bs</code>\n"
      ]
    },
    {
      "cell_type": "code",
      "execution_count": 41,
      "metadata": {
        "id": "1mKYXfZUSdXB"
      },
      "outputs": [],
      "source": [
        "two_tables_bs= BeautifulSoup(two_tables, 'html.parser')"
      ]
    },
    {
      "cell_type": "markdown",
      "metadata": {
        "id": "qB33jQ7SSdXB"
      },
      "source": [
        "We can find the first table using the tag name table\n"
      ]
    },
    {
      "cell_type": "code",
      "execution_count": 42,
      "metadata": {
        "id": "YTmMFiJeSdXC",
        "outputId": "c3deb517-65c8-4e45-c5f4-2afe70a910cf",
        "colab": {
          "base_uri": "https://localhost:8080/"
        }
      },
      "outputs": [
        {
          "output_type": "execute_result",
          "data": {
            "text/plain": [
              "<table class=\"rocket\"><tr><td>Flight No</td><td>Launch site</td> <td>Payload mass</td></tr><tr><td>1</td><td>Delhi</td><td>140 kg</td></tr><tr><td>2</td><td>Mumbai</td><td>100 kg</td></tr><tr><td>3</td><td>Florida </td><td>80 kg</td></tr></table>"
            ]
          },
          "metadata": {},
          "execution_count": 42
        }
      ],
      "source": [
        "two_tables_bs.find(\"table\")"
      ]
    },
    {
      "cell_type": "markdown",
      "metadata": {
        "id": "K39lmwY4SdXC"
      },
      "source": [
        "We can filter on the class attribute to find the second table, but because class is a keyword in Python, we add an underscore.\n"
      ]
    },
    {
      "cell_type": "code",
      "execution_count": 43,
      "metadata": {
        "id": "pVDpQBSpSdXC",
        "outputId": "1f78c749-de4d-4d2f-fc68-63cc8e7eae22",
        "colab": {
          "base_uri": "https://localhost:8080/"
        }
      },
      "outputs": [
        {
          "output_type": "execute_result",
          "data": {
            "text/plain": [
              "<table class=\"pizza\"><tr><td>Pizza Outlet</td><td>Orders</td> <td>Slices </td></tr><tr><td>Domino's Pizza</td><td>10</td><td>100</td></tr><tr><td>La Pino</td><td>12</td><td>144 </td></tr><tr><td>Papa John's </td><td>15 </td><td>165</td></tr></table>"
            ]
          },
          "metadata": {},
          "execution_count": 43
        }
      ],
      "source": [
        "two_tables_bs.find(\"table\",class_='pizza')"
      ]
    },
    {
      "cell_type": "markdown",
      "metadata": {
        "id": "2TNynsuVSdXC"
      },
      "source": [
        "<h2 id=\"DSCW\">Downloading And Scraping The Contents Of A Web Page</h2> \n"
      ]
    },
    {
      "cell_type": "markdown",
      "metadata": {
        "id": "xO7Cf6XJSdXC"
      },
      "source": [
        "We Download the contents of the web page:\n"
      ]
    },
    {
      "cell_type": "code",
      "execution_count": 44,
      "metadata": {
        "id": "0nsydgh4SdXC"
      },
      "outputs": [],
      "source": [
        "url = \"http://www.ibm.com\""
      ]
    },
    {
      "cell_type": "markdown",
      "metadata": {
        "id": "w66aMc0cSdXC"
      },
      "source": [
        "We use <code>get</code> to download the contents of the webpage in text format and store in a variable called <code>data</code>:\n"
      ]
    },
    {
      "cell_type": "code",
      "execution_count": 45,
      "metadata": {
        "id": "xA7xdrsCSdXC"
      },
      "outputs": [],
      "source": [
        "data  = requests.get(url).text "
      ]
    },
    {
      "cell_type": "markdown",
      "metadata": {
        "id": "sVv2AbpASdXC"
      },
      "source": [
        "We create a <code>BeautifulSoup</code> object using the <code>BeautifulSoup</code> constructor\n"
      ]
    },
    {
      "cell_type": "code",
      "execution_count": 46,
      "metadata": {
        "id": "syCfrRirSdXC"
      },
      "outputs": [],
      "source": [
        "soup = BeautifulSoup(data,\"html.parser\")  # create a soup object using the variable 'data'"
      ]
    },
    {
      "cell_type": "markdown",
      "metadata": {
        "id": "n27qVCdlSdXC"
      },
      "source": [
        "Scrape all links\n"
      ]
    },
    {
      "cell_type": "code",
      "execution_count": 47,
      "metadata": {
        "id": "euBfq3h-SdXC",
        "outputId": "eb778e10-2177-4ac2-dab2-dfc47ced9a0a",
        "colab": {
          "base_uri": "https://localhost:8080/"
        }
      },
      "outputs": [
        {
          "output_type": "stream",
          "name": "stdout",
          "text": [
            "https://www.ibm.com/tw/zh\n",
            "https://www.ibm.com/sitemap/tw/zh\n",
            "https://www.ibm.com/lets-create/\n",
            "/tw-zh/cloud/application-modernization\n",
            "/tw-zh/analytics/journey-to-ai\n",
            "https://www.ibm.com/tw-zh/products/flashsystem-5000?lnk=TWHP\n",
            "https://www.ibm.com/tw-zh/it-infrastructure/storage/flash?lnk=STW_TW_HP_F3_&psrc=NONE&pexp=DEF&lnk2=goto_FlashStorage\n",
            "/tw-zh/cloud/hybrid\n",
            "https://www.ibm.com/tw-zh/products?lnk=STW_TW_HP_SWT5_BLK&psrc=NONE&pexp=DEF&lnk2=trial_PHP\n",
            "https://www.ibm.com/tw-zh/security/security-intelligence/qradar?lnk=STW_TW_HP_SWT1_BLK&psrc=NONE&pexp=DEF&lnk2=trial_QradarPlat\n",
            "https://www.ibm.com/tw-zh/analytics/spss-trials?lnk=STW_TW_HP_SWT1_&psrc=NONE&pexp=DEF&lnk2=goto_SPSSstat\n",
            "https://www.ibm.com/tw-zh/cloud/free?lnk=STW_TW_HP_SWT1_BLK&psrc=NONE&pexp=DEF&lnk2=trial_Cloud\n",
            "https://www.ibm.com/tw-zh/products/cloud-pak-for-data?lnk=STW_TW_HP_SWT2_BLK&psrc=NONE&pexp=DEF&lnk2=trial_CloudPakData\n",
            "https://www.ibm.com/tw-zh/cloud/watson-assistant?lnk=STW_TW_HP_SWT3_BLK&psrc=NONE&pexp=DEF&lnk2=trial_WatAssist\n",
            "https://www.ibm.com/tw-zh/security/identity-access-management/cloud-identity?lnk=STW_TW_HP_SWT4_BLK&psrc=NONE&pexp=DEF&lnk2=trial_VerifyIAM\n",
            "/cloud/hybrid?lnk=hpv18pt14\n",
            "/cloud/learn/public-cloud?lnk=hpv18ct1\n",
            "/watson?lnk=ushpv18pt17\n",
            "/garage?lnk=hpv18pt13\n",
            "/blockchain?lnk=hpv18pt4\n",
            "https://www.ibm.com/thought-leadership/institute-business-value/?lnk=hpv18pt12\n",
            "/analytics?lnk=hpv18pt1\n",
            "/security?lnk=hpv18pt9\n",
            "/financing?lnk=hpv18pt3\n",
            "https://www.ibm.com/quantum-computing?lnk=hpv18pt16\n",
            "/cloud/hybrid?lnk=hpv18ct20\n",
            "/cloud/learn/public-cloud?lnk=hpv18ct1\n",
            "/cloud/redhat?lnk=hpv18ct13\n",
            "https://www.ibm.com/tw-zh/security/zero-trust?lnk=hpv18pt4\n",
            "/watson?lnk=hpv18ct3\n",
            "https://www.ibm.com/quantum-computing?lnk=hpv18ct18\n",
            "/cloud/learn/kubernetes?lnk=hpv18ct8\n",
            "/products/spss-statistics?lnk=ushpv18ct7\n",
            "/blockchain?lnk=hpv18ct1\n",
            "https://www.ibm.com/employment?lnk=hpv18ct2\n",
            "https://developer.ibm.com/depmodels/cloud/?lnk=hpv18ct16\n",
            "https://developer.ibm.com/technologies/artificial-intelligence?lnk=hpv18ct19\n",
            "https://developer.ibm.com/?lnk=hpv18ct9\n",
            "https://www.ibm.com/docs/en/?lnk=hpv18ct14\n",
            "https://www.redbooks.ibm.com/?lnk=ushpv18ct10\n",
            "https://www.ibm.com/support/home/?lnk=hpv18ct11\n",
            "https://www.ibm.com/training/?lnk=hpv18ct15\n",
            "https://www.ibm.com/case-studies/coca-cola-european-partners/?lnk=hpv18cs1\n",
            "/case-studies/search?lnk=hpv18cs2\n",
            "#\n"
          ]
        }
      ],
      "source": [
        "for link in soup.find_all('a',href=True):  # in html anchor/link is represented by the tag <a>\n",
        "\n",
        "    print(link.get('href'))\n"
      ]
    },
    {
      "cell_type": "markdown",
      "metadata": {
        "id": "2H2c7vF0SdXC"
      },
      "source": [
        "## Scrape  all images  Tags\n"
      ]
    },
    {
      "cell_type": "code",
      "execution_count": 48,
      "metadata": {
        "id": "gp_jwOLuSdXC",
        "outputId": "249dce40-5863-4af3-ccf6-986b63779a2e",
        "colab": {
          "base_uri": "https://localhost:8080/"
        }
      },
      "outputs": [
        {
          "output_type": "stream",
          "name": "stdout",
          "text": [
            "<img alt=\"攜手共創 萬物爭新\" class=\"\" loading=\"lazy\" src=\"//1.cms.s81c.com/sites/default/files/2022-02/security-2_10.jpg\"/>\n",
            "//1.cms.s81c.com/sites/default/files/2022-02/security-2_10.jpg\n",
            "<img alt=\"一次構建，隨處部署\" class=\"\" loading=\"lazy\" src=\"//1.cms.s81c.com/sites/default/files/2021-09-02/twhp-mordernize.jpg\"/>\n",
            "//1.cms.s81c.com/sites/default/files/2021-09-02/twhp-mordernize.jpg\n",
            "<img alt=\"擴展 AI 以加速數位轉型\" class=\"\" loading=\"lazy\" src=\"//1.cms.s81c.com/sites/default/files/2021-09-02/twhp-j2ai.jpg\"/>\n",
            "//1.cms.s81c.com/sites/default/files/2021-09-02/twhp-j2ai.jpg\n",
            "<img alt=\"限時優惠！免費取得三大企業級資料服務\" class=\"\" loading=\"lazy\" src=\"//1.cms.s81c.com/sites/default/files/2021-08-09/twzh-flashsystem-5000.jpg\"/>\n",
            "//1.cms.s81c.com/sites/default/files/2021-08-09/twzh-flashsystem-5000.jpg\n",
            "<img alt=\"2021年第一季度儲存新品震撼發佈\" class=\"\" loading=\"lazy\" src=\"//1.cms.s81c.com/sites/default/files/2021-04-09/20210209-flash-system-5200-storage-25719-444x320_0.jpg\"/>\n",
            "//1.cms.s81c.com/sites/default/files/2021-04-09/20210209-flash-system-5200-storage-25719-444x320_0.jpg\n",
            "<img alt=\"混合雲解決方案\" class=\"\" loading=\"lazy\" src=\"//1.cms.s81c.com/sites/default/files/2021-04-09/02dfdf0d-305a-4d56-bc959b60ad35f0c9.jpg\"/>\n",
            "//1.cms.s81c.com/sites/default/files/2021-04-09/02dfdf0d-305a-4d56-bc959b60ad35f0c9.jpg\n",
            "<img alt=\"\" class=\"\" loading=\"lazy\" src=\"//1.cms.s81c.com/sites/default/files/2021-10-26/QRadar-on-Cloud-21400-700x420_3.png\"/>\n",
            "//1.cms.s81c.com/sites/default/files/2021-10-26/QRadar-on-Cloud-21400-700x420_3.png\n",
            "<img alt=\"\" class=\"\" loading=\"lazy\" src=\"//1.cms.s81c.com/sites/default/files/2021-04-26/Original-SPSS-Statistics-23108-700x420.png\"/>\n",
            "//1.cms.s81c.com/sites/default/files/2021-04-26/Original-SPSS-Statistics-23108-700x420.png\n",
            "<img alt=\"IBM Cloud 儀表板的擷取畫面\" class=\"\" loading=\"lazy\" src=\"//1.cms.s81c.com/sites/default/files/2021-02-17/ibm-cloud-trial.png\"/>\n",
            "//1.cms.s81c.com/sites/default/files/2021-02-17/ibm-cloud-trial.png\n",
            "<img alt=\"Cloud Pak for Data 擷取畫面\" class=\"\" loading=\"lazy\" src=\"//1.cms.s81c.com/sites/default/files/2021-02-17/cloud-pak-for-data-trial.png\"/>\n",
            "//1.cms.s81c.com/sites/default/files/2021-02-17/cloud-pak-for-data-trial.png\n",
            "<img alt=\"Watson Assistant 軟體的擷取畫面\" class=\"\" loading=\"lazy\" src=\"//1.cms.s81c.com/sites/default/files/2021-02-17/watson-assistant-trial_0.png\"/>\n",
            "//1.cms.s81c.com/sites/default/files/2021-02-17/watson-assistant-trial_0.png\n",
            "<img alt=\"安全驗證軟體的擷取畫面\" class=\"\" loading=\"lazy\" src=\"//1.cms.s81c.com/sites/default/files/2021-02-19/security-verify-trial.png\"/>\n",
            "//1.cms.s81c.com/sites/default/files/2021-02-19/security-verify-trial.png\n"
          ]
        }
      ],
      "source": [
        "for link in soup.find_all('img'):# in html image is represented by the tag <img>\n",
        "    print(link)\n",
        "    print(link.get('src'))"
      ]
    },
    {
      "cell_type": "markdown",
      "metadata": {
        "id": "Grbih8DVSdXD"
      },
      "source": [
        "## Scrape data from HTML tables into a DataFrame using BeautifulSoup and Pandas\n"
      ]
    },
    {
      "cell_type": "code",
      "execution_count": 49,
      "metadata": {
        "id": "A2BqgjlJSdXD"
      },
      "outputs": [],
      "source": [
        "import pandas as pd"
      ]
    },
    {
      "cell_type": "code",
      "execution_count": 67,
      "metadata": {
        "id": "RzKRPVdVSdXD"
      },
      "outputs": [],
      "source": [
        "#The below url contains html tables with data about world population.\n",
        "url = \"https://en.wikipedia.org/wiki/Demographics_of_India\""
      ]
    },
    {
      "cell_type": "markdown",
      "metadata": {
        "id": "o0mmBfiVSdXD"
      },
      "source": [
        "Before proceeding to scrape a web site, we need to examine the contents, and the way data is organized on the website. "
      ]
    },
    {
      "cell_type": "code",
      "execution_count": 68,
      "metadata": {
        "id": "LuJ-cYQZSdXD"
      },
      "outputs": [],
      "source": [
        "# get the contents of the webpage in text format and store in a variable called data\n",
        "data  = requests.get(url).text"
      ]
    },
    {
      "cell_type": "code",
      "execution_count": 69,
      "metadata": {
        "id": "E3EVdoyaSdXD"
      },
      "outputs": [],
      "source": [
        "soup = BeautifulSoup(data,\"html.parser\")"
      ]
    },
    {
      "cell_type": "code",
      "execution_count": 70,
      "metadata": {
        "id": "BxxexiDXSdXE"
      },
      "outputs": [],
      "source": [
        "#find all html tables in the web page\n",
        "tables = soup.find_all('table') # in html table is represented by the tag <table>"
      ]
    },
    {
      "cell_type": "code",
      "execution_count": 71,
      "metadata": {
        "id": "P50algzMSdXE",
        "outputId": "c33d36e2-bab4-464c-e63e-9aa76c37fbe4",
        "colab": {
          "base_uri": "https://localhost:8080/"
        }
      },
      "outputs": [
        {
          "output_type": "execute_result",
          "data": {
            "text/plain": [
              "38"
            ]
          },
          "metadata": {},
          "execution_count": 71
        }
      ],
      "source": [
        "# we can see how many tables were found by checking the length of the tables list\n",
        "len(tables)"
      ]
    },
    {
      "cell_type": "markdown",
      "metadata": {
        "id": "vrdvKg8DSdXE"
      },
      "source": [
        "Assume that we are looking for the `population over years` table, we can look through the tables list and find the right one we are look for based on the data in each table or we can search for the table name if it is in the table but this option might not always work.\n"
      ]
    },
    {
      "cell_type": "code",
      "execution_count": 87,
      "metadata": {
        "id": "KPM9oRKYSdXE",
        "outputId": "d1b9d6c8-83b2-4351-c148-51ecfa7e5892",
        "colab": {
          "base_uri": "https://localhost:8080/"
        }
      },
      "outputs": [
        {
          "output_type": "stream",
          "name": "stdout",
          "text": [
            "7\n"
          ]
        }
      ],
      "source": [
        "for index,table in enumerate(tables):\n",
        "    if (\"Population growth of India per decade\" in str(table)):\n",
        "        table_index = index\n",
        "print(table_index)"
      ]
    },
    {
      "cell_type": "markdown",
      "metadata": {
        "id": "qvdx0dhrSdXE"
      },
      "source": [
        "See if you can locate the table name of the table, `population over years`, below.\n"
      ]
    },
    {
      "cell_type": "code",
      "execution_count": 88,
      "metadata": {
        "id": "AUSTaUFqSdXE",
        "outputId": "a578e476-de25-4245-f9c0-187af23b3f77",
        "colab": {
          "base_uri": "https://localhost:8080/"
        }
      },
      "outputs": [
        {
          "output_type": "stream",
          "name": "stdout",
          "text": [
            "<table class=\"wikitable sortable\">\n",
            " <caption>\n",
            "  Population growth of India per decade\n",
            "  <sup class=\"reference\" id=\"cite_ref-Census_Population_49-0\">\n",
            "   <a href=\"#cite_note-Census_Population-49\">\n",
            "    [48]\n",
            "   </a>\n",
            "  </sup>\n",
            " </caption>\n",
            " <tbody>\n",
            "  <tr>\n",
            "   <th scope=\"col\" style=\"text-align: left;\">\n",
            "    Census year\n",
            "   </th>\n",
            "   <th data-sort-type=\"number\" scope=\"col\" style=\"text-align: right;\">\n",
            "    Population\n",
            "   </th>\n",
            "   <th data-sort-type=\"number\" scope=\"col\" style=\"text-align: right;\">\n",
            "    Change (%)\n",
            "   </th>\n",
            "  </tr>\n",
            "  <tr>\n",
            "   <td>\n",
            "    1951\n",
            "   </td>\n",
            "   <td style=\"text-align: right;\">\n",
            "    361,088,003\n",
            "   </td>\n",
            "   <td style=\"text-align: right;\">\n",
            "    –\n",
            "   </td>\n",
            "  </tr>\n",
            "  <tr>\n",
            "   <td>\n",
            "    1961\n",
            "   </td>\n",
            "   <td style=\"text-align: right;\">\n",
            "    439,235,000\n",
            "   </td>\n",
            "   <td style=\"text-align: right;\">\n",
            "    21.6\n",
            "   </td>\n",
            "  </tr>\n",
            "  <tr>\n",
            "   <td>\n",
            "    1971\n",
            "   </td>\n",
            "   <td style=\"text-align: right;\">\n",
            "    548,160,000\n",
            "   </td>\n",
            "   <td style=\"text-align: right;\">\n",
            "    24.8\n",
            "   </td>\n",
            "  </tr>\n",
            "  <tr>\n",
            "   <td>\n",
            "    1981\n",
            "   </td>\n",
            "   <td style=\"text-align: right;\">\n",
            "    683,329,000\n",
            "   </td>\n",
            "   <td style=\"text-align: right;\">\n",
            "    24.7\n",
            "   </td>\n",
            "  </tr>\n",
            "  <tr>\n",
            "   <td>\n",
            "    1991\n",
            "   </td>\n",
            "   <td style=\"text-align: right;\">\n",
            "    846,387,888\n",
            "   </td>\n",
            "   <td style=\"text-align: right;\">\n",
            "    23.9\n",
            "   </td>\n",
            "  </tr>\n",
            "  <tr>\n",
            "   <td>\n",
            "    2001\n",
            "   </td>\n",
            "   <td style=\"text-align: right;\">\n",
            "    1,028,737,436\n",
            "   </td>\n",
            "   <td style=\"text-align: right;\">\n",
            "    21.5\n",
            "   </td>\n",
            "  </tr>\n",
            "  <tr>\n",
            "   <td>\n",
            "    2011\n",
            "   </td>\n",
            "   <td style=\"text-align: right;\">\n",
            "    1,210,726,932\n",
            "   </td>\n",
            "   <td style=\"text-align: right;\">\n",
            "    17.7\n",
            "   </td>\n",
            "  </tr>\n",
            " </tbody>\n",
            "</table>\n",
            "\n"
          ]
        }
      ],
      "source": [
        "print(tables[table_index].prettify())"
      ]
    },
    {
      "cell_type": "code",
      "execution_count": 91,
      "metadata": {
        "id": "UiG13p88SdXE",
        "outputId": "71a8159d-14ca-4f06-ee0b-faabc3376682",
        "colab": {
          "base_uri": "https://localhost:8080/",
          "height": 269
        }
      },
      "outputs": [
        {
          "output_type": "execute_result",
          "data": {
            "text/plain": [
              "     Year       Population Change\n",
              "0  1951\\n    361,088,003\\n      –\n",
              "1  1961\\n    439,235,000\\n   21.6\n",
              "2  1971\\n    548,160,000\\n   24.8\n",
              "3  1981\\n    683,329,000\\n   24.7\n",
              "4  1991\\n    846,387,888\\n   23.9\n",
              "5  2001\\n  1,028,737,436\\n   21.5\n",
              "6  2011\\n  1,210,726,932\\n   17.7"
            ],
            "text/html": [
              "\n",
              "  <div id=\"df-4a159409-5818-49ea-9d92-e1daf1239947\">\n",
              "    <div class=\"colab-df-container\">\n",
              "      <div>\n",
              "<style scoped>\n",
              "    .dataframe tbody tr th:only-of-type {\n",
              "        vertical-align: middle;\n",
              "    }\n",
              "\n",
              "    .dataframe tbody tr th {\n",
              "        vertical-align: top;\n",
              "    }\n",
              "\n",
              "    .dataframe thead th {\n",
              "        text-align: right;\n",
              "    }\n",
              "</style>\n",
              "<table border=\"1\" class=\"dataframe\">\n",
              "  <thead>\n",
              "    <tr style=\"text-align: right;\">\n",
              "      <th></th>\n",
              "      <th>Year</th>\n",
              "      <th>Population</th>\n",
              "      <th>Change</th>\n",
              "    </tr>\n",
              "  </thead>\n",
              "  <tbody>\n",
              "    <tr>\n",
              "      <th>0</th>\n",
              "      <td>1951\\n</td>\n",
              "      <td>361,088,003\\n</td>\n",
              "      <td>–</td>\n",
              "    </tr>\n",
              "    <tr>\n",
              "      <th>1</th>\n",
              "      <td>1961\\n</td>\n",
              "      <td>439,235,000\\n</td>\n",
              "      <td>21.6</td>\n",
              "    </tr>\n",
              "    <tr>\n",
              "      <th>2</th>\n",
              "      <td>1971\\n</td>\n",
              "      <td>548,160,000\\n</td>\n",
              "      <td>24.8</td>\n",
              "    </tr>\n",
              "    <tr>\n",
              "      <th>3</th>\n",
              "      <td>1981\\n</td>\n",
              "      <td>683,329,000\\n</td>\n",
              "      <td>24.7</td>\n",
              "    </tr>\n",
              "    <tr>\n",
              "      <th>4</th>\n",
              "      <td>1991\\n</td>\n",
              "      <td>846,387,888\\n</td>\n",
              "      <td>23.9</td>\n",
              "    </tr>\n",
              "    <tr>\n",
              "      <th>5</th>\n",
              "      <td>2001\\n</td>\n",
              "      <td>1,028,737,436\\n</td>\n",
              "      <td>21.5</td>\n",
              "    </tr>\n",
              "    <tr>\n",
              "      <th>6</th>\n",
              "      <td>2011\\n</td>\n",
              "      <td>1,210,726,932\\n</td>\n",
              "      <td>17.7</td>\n",
              "    </tr>\n",
              "  </tbody>\n",
              "</table>\n",
              "</div>\n",
              "      <button class=\"colab-df-convert\" onclick=\"convertToInteractive('df-4a159409-5818-49ea-9d92-e1daf1239947')\"\n",
              "              title=\"Convert this dataframe to an interactive table.\"\n",
              "              style=\"display:none;\">\n",
              "        \n",
              "  <svg xmlns=\"http://www.w3.org/2000/svg\" height=\"24px\"viewBox=\"0 0 24 24\"\n",
              "       width=\"24px\">\n",
              "    <path d=\"M0 0h24v24H0V0z\" fill=\"none\"/>\n",
              "    <path d=\"M18.56 5.44l.94 2.06.94-2.06 2.06-.94-2.06-.94-.94-2.06-.94 2.06-2.06.94zm-11 1L8.5 8.5l.94-2.06 2.06-.94-2.06-.94L8.5 2.5l-.94 2.06-2.06.94zm10 10l.94 2.06.94-2.06 2.06-.94-2.06-.94-.94-2.06-.94 2.06-2.06.94z\"/><path d=\"M17.41 7.96l-1.37-1.37c-.4-.4-.92-.59-1.43-.59-.52 0-1.04.2-1.43.59L10.3 9.45l-7.72 7.72c-.78.78-.78 2.05 0 2.83L4 21.41c.39.39.9.59 1.41.59.51 0 1.02-.2 1.41-.59l7.78-7.78 2.81-2.81c.8-.78.8-2.07 0-2.86zM5.41 20L4 18.59l7.72-7.72 1.47 1.35L5.41 20z\"/>\n",
              "  </svg>\n",
              "      </button>\n",
              "      \n",
              "  <style>\n",
              "    .colab-df-container {\n",
              "      display:flex;\n",
              "      flex-wrap:wrap;\n",
              "      gap: 12px;\n",
              "    }\n",
              "\n",
              "    .colab-df-convert {\n",
              "      background-color: #E8F0FE;\n",
              "      border: none;\n",
              "      border-radius: 50%;\n",
              "      cursor: pointer;\n",
              "      display: none;\n",
              "      fill: #1967D2;\n",
              "      height: 32px;\n",
              "      padding: 0 0 0 0;\n",
              "      width: 32px;\n",
              "    }\n",
              "\n",
              "    .colab-df-convert:hover {\n",
              "      background-color: #E2EBFA;\n",
              "      box-shadow: 0px 1px 2px rgba(60, 64, 67, 0.3), 0px 1px 3px 1px rgba(60, 64, 67, 0.15);\n",
              "      fill: #174EA6;\n",
              "    }\n",
              "\n",
              "    [theme=dark] .colab-df-convert {\n",
              "      background-color: #3B4455;\n",
              "      fill: #D2E3FC;\n",
              "    }\n",
              "\n",
              "    [theme=dark] .colab-df-convert:hover {\n",
              "      background-color: #434B5C;\n",
              "      box-shadow: 0px 1px 3px 1px rgba(0, 0, 0, 0.15);\n",
              "      filter: drop-shadow(0px 1px 2px rgba(0, 0, 0, 0.3));\n",
              "      fill: #FFFFFF;\n",
              "    }\n",
              "  </style>\n",
              "\n",
              "      <script>\n",
              "        const buttonEl =\n",
              "          document.querySelector('#df-4a159409-5818-49ea-9d92-e1daf1239947 button.colab-df-convert');\n",
              "        buttonEl.style.display =\n",
              "          google.colab.kernel.accessAllowed ? 'block' : 'none';\n",
              "\n",
              "        async function convertToInteractive(key) {\n",
              "          const element = document.querySelector('#df-4a159409-5818-49ea-9d92-e1daf1239947');\n",
              "          const dataTable =\n",
              "            await google.colab.kernel.invokeFunction('convertToInteractive',\n",
              "                                                     [key], {});\n",
              "          if (!dataTable) return;\n",
              "\n",
              "          const docLinkHtml = 'Like what you see? Visit the ' +\n",
              "            '<a target=\"_blank\" href=https://colab.research.google.com/notebooks/data_table.ipynb>data table notebook</a>'\n",
              "            + ' to learn more about interactive tables.';\n",
              "          element.innerHTML = '';\n",
              "          dataTable['output_type'] = 'display_data';\n",
              "          await google.colab.output.renderOutput(dataTable, element);\n",
              "          const docLink = document.createElement('div');\n",
              "          docLink.innerHTML = docLinkHtml;\n",
              "          element.appendChild(docLink);\n",
              "        }\n",
              "      </script>\n",
              "    </div>\n",
              "  </div>\n",
              "  "
            ]
          },
          "metadata": {},
          "execution_count": 91
        }
      ],
      "source": [
        "population_data = pd.DataFrame(columns=[\"Year\", \"Population\", \"Change\"])\n",
        "\n",
        "for row in tables[table_index].tbody.find_all(\"tr\"):\n",
        "    col = row.find_all(\"td\")\n",
        "    if (col != []):\n",
        "        year = col[0].text\n",
        "        population = col[1].text\n",
        "        change = col[2].text.strip()\n",
        "        population_data = population_data.append({\"Year\":year, \"Population\":population, \"Change\":change}, ignore_index=True)\n",
        "\n",
        "population_data"
      ]
    },
    {
      "cell_type": "markdown",
      "metadata": {
        "id": "azBxX3rdSdXE"
      },
      "source": [
        "## Scrape data from HTML tables into a DataFrame using BeautifulSoup and read_html\n"
      ]
    },
    {
      "cell_type": "markdown",
      "metadata": {
        "id": "pDBvzAK-SdXE"
      },
      "source": [
        "Using the same `url`, `data`, `soup`, and `tables` object as in the last section we can use the `read_html` function to create a DataFrame.\n",
        "\n",
        "Remember the table we need is located in `tables[table_index]`\n",
        "\n",
        "We can now use the `pandas` function `read_html` and give it the string version of the table as well as the `flavor` which is the parsing engine `bs4`.\n"
      ]
    },
    {
      "cell_type": "code",
      "execution_count": 92,
      "metadata": {
        "id": "quY5ur7YSdXE",
        "outputId": "dfdae245-228e-4c30-b2fd-34223fdf65a4",
        "colab": {
          "base_uri": "https://localhost:8080/"
        }
      },
      "outputs": [
        {
          "output_type": "execute_result",
          "data": {
            "text/plain": [
              "[   Census year  Population Change (%)\n",
              " 0         1951   361088003          –\n",
              " 1         1961   439235000       21.6\n",
              " 2         1971   548160000       24.8\n",
              " 3         1981   683329000       24.7\n",
              " 4         1991   846387888       23.9\n",
              " 5         2001  1028737436       21.5\n",
              " 6         2011  1210726932       17.7]"
            ]
          },
          "metadata": {},
          "execution_count": 92
        }
      ],
      "source": [
        "pd.read_html(str(tables[7]), flavor='bs4')"
      ]
    },
    {
      "cell_type": "markdown",
      "metadata": {
        "id": "eVR0s0dlSdXE"
      },
      "source": [
        "The function `read_html` always returns a list of DataFrames so we must pick the one we want out of the list.\n"
      ]
    },
    {
      "cell_type": "code",
      "execution_count": 93,
      "metadata": {
        "id": "oPHCMwziSdXE",
        "outputId": "f39aad00-934f-438c-99b6-6174c235db4a",
        "colab": {
          "base_uri": "https://localhost:8080/",
          "height": 269
        }
      },
      "outputs": [
        {
          "output_type": "execute_result",
          "data": {
            "text/plain": [
              "   Census year  Population Change (%)\n",
              "0         1951   361088003          –\n",
              "1         1961   439235000       21.6\n",
              "2         1971   548160000       24.8\n",
              "3         1981   683329000       24.7\n",
              "4         1991   846387888       23.9\n",
              "5         2001  1028737436       21.5\n",
              "6         2011  1210726932       17.7"
            ],
            "text/html": [
              "\n",
              "  <div id=\"df-fd88b470-635d-41bb-8833-90bd5808382e\">\n",
              "    <div class=\"colab-df-container\">\n",
              "      <div>\n",
              "<style scoped>\n",
              "    .dataframe tbody tr th:only-of-type {\n",
              "        vertical-align: middle;\n",
              "    }\n",
              "\n",
              "    .dataframe tbody tr th {\n",
              "        vertical-align: top;\n",
              "    }\n",
              "\n",
              "    .dataframe thead th {\n",
              "        text-align: right;\n",
              "    }\n",
              "</style>\n",
              "<table border=\"1\" class=\"dataframe\">\n",
              "  <thead>\n",
              "    <tr style=\"text-align: right;\">\n",
              "      <th></th>\n",
              "      <th>Census year</th>\n",
              "      <th>Population</th>\n",
              "      <th>Change (%)</th>\n",
              "    </tr>\n",
              "  </thead>\n",
              "  <tbody>\n",
              "    <tr>\n",
              "      <th>0</th>\n",
              "      <td>1951</td>\n",
              "      <td>361088003</td>\n",
              "      <td>–</td>\n",
              "    </tr>\n",
              "    <tr>\n",
              "      <th>1</th>\n",
              "      <td>1961</td>\n",
              "      <td>439235000</td>\n",
              "      <td>21.6</td>\n",
              "    </tr>\n",
              "    <tr>\n",
              "      <th>2</th>\n",
              "      <td>1971</td>\n",
              "      <td>548160000</td>\n",
              "      <td>24.8</td>\n",
              "    </tr>\n",
              "    <tr>\n",
              "      <th>3</th>\n",
              "      <td>1981</td>\n",
              "      <td>683329000</td>\n",
              "      <td>24.7</td>\n",
              "    </tr>\n",
              "    <tr>\n",
              "      <th>4</th>\n",
              "      <td>1991</td>\n",
              "      <td>846387888</td>\n",
              "      <td>23.9</td>\n",
              "    </tr>\n",
              "    <tr>\n",
              "      <th>5</th>\n",
              "      <td>2001</td>\n",
              "      <td>1028737436</td>\n",
              "      <td>21.5</td>\n",
              "    </tr>\n",
              "    <tr>\n",
              "      <th>6</th>\n",
              "      <td>2011</td>\n",
              "      <td>1210726932</td>\n",
              "      <td>17.7</td>\n",
              "    </tr>\n",
              "  </tbody>\n",
              "</table>\n",
              "</div>\n",
              "      <button class=\"colab-df-convert\" onclick=\"convertToInteractive('df-fd88b470-635d-41bb-8833-90bd5808382e')\"\n",
              "              title=\"Convert this dataframe to an interactive table.\"\n",
              "              style=\"display:none;\">\n",
              "        \n",
              "  <svg xmlns=\"http://www.w3.org/2000/svg\" height=\"24px\"viewBox=\"0 0 24 24\"\n",
              "       width=\"24px\">\n",
              "    <path d=\"M0 0h24v24H0V0z\" fill=\"none\"/>\n",
              "    <path d=\"M18.56 5.44l.94 2.06.94-2.06 2.06-.94-2.06-.94-.94-2.06-.94 2.06-2.06.94zm-11 1L8.5 8.5l.94-2.06 2.06-.94-2.06-.94L8.5 2.5l-.94 2.06-2.06.94zm10 10l.94 2.06.94-2.06 2.06-.94-2.06-.94-.94-2.06-.94 2.06-2.06.94z\"/><path d=\"M17.41 7.96l-1.37-1.37c-.4-.4-.92-.59-1.43-.59-.52 0-1.04.2-1.43.59L10.3 9.45l-7.72 7.72c-.78.78-.78 2.05 0 2.83L4 21.41c.39.39.9.59 1.41.59.51 0 1.02-.2 1.41-.59l7.78-7.78 2.81-2.81c.8-.78.8-2.07 0-2.86zM5.41 20L4 18.59l7.72-7.72 1.47 1.35L5.41 20z\"/>\n",
              "  </svg>\n",
              "      </button>\n",
              "      \n",
              "  <style>\n",
              "    .colab-df-container {\n",
              "      display:flex;\n",
              "      flex-wrap:wrap;\n",
              "      gap: 12px;\n",
              "    }\n",
              "\n",
              "    .colab-df-convert {\n",
              "      background-color: #E8F0FE;\n",
              "      border: none;\n",
              "      border-radius: 50%;\n",
              "      cursor: pointer;\n",
              "      display: none;\n",
              "      fill: #1967D2;\n",
              "      height: 32px;\n",
              "      padding: 0 0 0 0;\n",
              "      width: 32px;\n",
              "    }\n",
              "\n",
              "    .colab-df-convert:hover {\n",
              "      background-color: #E2EBFA;\n",
              "      box-shadow: 0px 1px 2px rgba(60, 64, 67, 0.3), 0px 1px 3px 1px rgba(60, 64, 67, 0.15);\n",
              "      fill: #174EA6;\n",
              "    }\n",
              "\n",
              "    [theme=dark] .colab-df-convert {\n",
              "      background-color: #3B4455;\n",
              "      fill: #D2E3FC;\n",
              "    }\n",
              "\n",
              "    [theme=dark] .colab-df-convert:hover {\n",
              "      background-color: #434B5C;\n",
              "      box-shadow: 0px 1px 3px 1px rgba(0, 0, 0, 0.15);\n",
              "      filter: drop-shadow(0px 1px 2px rgba(0, 0, 0, 0.3));\n",
              "      fill: #FFFFFF;\n",
              "    }\n",
              "  </style>\n",
              "\n",
              "      <script>\n",
              "        const buttonEl =\n",
              "          document.querySelector('#df-fd88b470-635d-41bb-8833-90bd5808382e button.colab-df-convert');\n",
              "        buttonEl.style.display =\n",
              "          google.colab.kernel.accessAllowed ? 'block' : 'none';\n",
              "\n",
              "        async function convertToInteractive(key) {\n",
              "          const element = document.querySelector('#df-fd88b470-635d-41bb-8833-90bd5808382e');\n",
              "          const dataTable =\n",
              "            await google.colab.kernel.invokeFunction('convertToInteractive',\n",
              "                                                     [key], {});\n",
              "          if (!dataTable) return;\n",
              "\n",
              "          const docLinkHtml = 'Like what you see? Visit the ' +\n",
              "            '<a target=\"_blank\" href=https://colab.research.google.com/notebooks/data_table.ipynb>data table notebook</a>'\n",
              "            + ' to learn more about interactive tables.';\n",
              "          element.innerHTML = '';\n",
              "          dataTable['output_type'] = 'display_data';\n",
              "          await google.colab.output.renderOutput(dataTable, element);\n",
              "          const docLink = document.createElement('div');\n",
              "          docLink.innerHTML = docLinkHtml;\n",
              "          element.appendChild(docLink);\n",
              "        }\n",
              "      </script>\n",
              "    </div>\n",
              "  </div>\n",
              "  "
            ]
          },
          "metadata": {},
          "execution_count": 93
        }
      ],
      "source": [
        "population_data_read_html = pd.read_html(str(tables[7]), flavor='bs4')[0]\n",
        "\n",
        "population_data_read_html"
      ]
    },
    {
      "cell_type": "markdown",
      "metadata": {
        "id": "7KIh7N05SdXE"
      },
      "source": [
        "## Scrape data from HTML tables into a DataFrame using read_html\n"
      ]
    },
    {
      "cell_type": "markdown",
      "metadata": {
        "id": "UkV36RL-SdXF"
      },
      "source": [
        "We can also use the `read_html` function to directly get DataFrames from a `url`.\n"
      ]
    },
    {
      "cell_type": "code",
      "execution_count": 96,
      "metadata": {
        "id": "Z0fZ1w8CSdXF"
      },
      "outputs": [],
      "source": [
        "dataframe_list = pd.read_html(url, flavor='bs4')"
      ]
    },
    {
      "cell_type": "markdown",
      "metadata": {
        "id": "IeOXNGjBSdXF"
      },
      "source": [
        "We can see there are 38 DataFrames just like when we used `find_all` on the `soup` object.\n"
      ]
    },
    {
      "cell_type": "code",
      "execution_count": 97,
      "metadata": {
        "id": "J0cvI2X4SdXG",
        "outputId": "cff52b84-705d-4b67-9815-acdbd9feed39",
        "colab": {
          "base_uri": "https://localhost:8080/"
        }
      },
      "outputs": [
        {
          "output_type": "execute_result",
          "data": {
            "text/plain": [
              "38"
            ]
          },
          "metadata": {},
          "execution_count": 97
        }
      ],
      "source": [
        "len(dataframe_list)"
      ]
    },
    {
      "cell_type": "markdown",
      "metadata": {
        "id": "NHJSmEpVSdXG"
      },
      "source": [
        "Finally we can pick the DataFrame we need out of the list.\n"
      ]
    },
    {
      "cell_type": "code",
      "execution_count": 99,
      "metadata": {
        "id": "A_wxbdI6SdXG",
        "outputId": "a3e233f7-c5af-43b6-9d96-ec14b596c40f",
        "colab": {
          "base_uri": "https://localhost:8080/",
          "height": 269
        }
      },
      "outputs": [
        {
          "output_type": "execute_result",
          "data": {
            "text/plain": [
              "   Census year  Population Change (%)\n",
              "0         1951   361088003          –\n",
              "1         1961   439235000       21.6\n",
              "2         1971   548160000       24.8\n",
              "3         1981   683329000       24.7\n",
              "4         1991   846387888       23.9\n",
              "5         2001  1028737436       21.5\n",
              "6         2011  1210726932       17.7"
            ],
            "text/html": [
              "\n",
              "  <div id=\"df-5d0c6726-dd6b-4373-ab8b-cfdb997bd9db\">\n",
              "    <div class=\"colab-df-container\">\n",
              "      <div>\n",
              "<style scoped>\n",
              "    .dataframe tbody tr th:only-of-type {\n",
              "        vertical-align: middle;\n",
              "    }\n",
              "\n",
              "    .dataframe tbody tr th {\n",
              "        vertical-align: top;\n",
              "    }\n",
              "\n",
              "    .dataframe thead th {\n",
              "        text-align: right;\n",
              "    }\n",
              "</style>\n",
              "<table border=\"1\" class=\"dataframe\">\n",
              "  <thead>\n",
              "    <tr style=\"text-align: right;\">\n",
              "      <th></th>\n",
              "      <th>Census year</th>\n",
              "      <th>Population</th>\n",
              "      <th>Change (%)</th>\n",
              "    </tr>\n",
              "  </thead>\n",
              "  <tbody>\n",
              "    <tr>\n",
              "      <th>0</th>\n",
              "      <td>1951</td>\n",
              "      <td>361088003</td>\n",
              "      <td>–</td>\n",
              "    </tr>\n",
              "    <tr>\n",
              "      <th>1</th>\n",
              "      <td>1961</td>\n",
              "      <td>439235000</td>\n",
              "      <td>21.6</td>\n",
              "    </tr>\n",
              "    <tr>\n",
              "      <th>2</th>\n",
              "      <td>1971</td>\n",
              "      <td>548160000</td>\n",
              "      <td>24.8</td>\n",
              "    </tr>\n",
              "    <tr>\n",
              "      <th>3</th>\n",
              "      <td>1981</td>\n",
              "      <td>683329000</td>\n",
              "      <td>24.7</td>\n",
              "    </tr>\n",
              "    <tr>\n",
              "      <th>4</th>\n",
              "      <td>1991</td>\n",
              "      <td>846387888</td>\n",
              "      <td>23.9</td>\n",
              "    </tr>\n",
              "    <tr>\n",
              "      <th>5</th>\n",
              "      <td>2001</td>\n",
              "      <td>1028737436</td>\n",
              "      <td>21.5</td>\n",
              "    </tr>\n",
              "    <tr>\n",
              "      <th>6</th>\n",
              "      <td>2011</td>\n",
              "      <td>1210726932</td>\n",
              "      <td>17.7</td>\n",
              "    </tr>\n",
              "  </tbody>\n",
              "</table>\n",
              "</div>\n",
              "      <button class=\"colab-df-convert\" onclick=\"convertToInteractive('df-5d0c6726-dd6b-4373-ab8b-cfdb997bd9db')\"\n",
              "              title=\"Convert this dataframe to an interactive table.\"\n",
              "              style=\"display:none;\">\n",
              "        \n",
              "  <svg xmlns=\"http://www.w3.org/2000/svg\" height=\"24px\"viewBox=\"0 0 24 24\"\n",
              "       width=\"24px\">\n",
              "    <path d=\"M0 0h24v24H0V0z\" fill=\"none\"/>\n",
              "    <path d=\"M18.56 5.44l.94 2.06.94-2.06 2.06-.94-2.06-.94-.94-2.06-.94 2.06-2.06.94zm-11 1L8.5 8.5l.94-2.06 2.06-.94-2.06-.94L8.5 2.5l-.94 2.06-2.06.94zm10 10l.94 2.06.94-2.06 2.06-.94-2.06-.94-.94-2.06-.94 2.06-2.06.94z\"/><path d=\"M17.41 7.96l-1.37-1.37c-.4-.4-.92-.59-1.43-.59-.52 0-1.04.2-1.43.59L10.3 9.45l-7.72 7.72c-.78.78-.78 2.05 0 2.83L4 21.41c.39.39.9.59 1.41.59.51 0 1.02-.2 1.41-.59l7.78-7.78 2.81-2.81c.8-.78.8-2.07 0-2.86zM5.41 20L4 18.59l7.72-7.72 1.47 1.35L5.41 20z\"/>\n",
              "  </svg>\n",
              "      </button>\n",
              "      \n",
              "  <style>\n",
              "    .colab-df-container {\n",
              "      display:flex;\n",
              "      flex-wrap:wrap;\n",
              "      gap: 12px;\n",
              "    }\n",
              "\n",
              "    .colab-df-convert {\n",
              "      background-color: #E8F0FE;\n",
              "      border: none;\n",
              "      border-radius: 50%;\n",
              "      cursor: pointer;\n",
              "      display: none;\n",
              "      fill: #1967D2;\n",
              "      height: 32px;\n",
              "      padding: 0 0 0 0;\n",
              "      width: 32px;\n",
              "    }\n",
              "\n",
              "    .colab-df-convert:hover {\n",
              "      background-color: #E2EBFA;\n",
              "      box-shadow: 0px 1px 2px rgba(60, 64, 67, 0.3), 0px 1px 3px 1px rgba(60, 64, 67, 0.15);\n",
              "      fill: #174EA6;\n",
              "    }\n",
              "\n",
              "    [theme=dark] .colab-df-convert {\n",
              "      background-color: #3B4455;\n",
              "      fill: #D2E3FC;\n",
              "    }\n",
              "\n",
              "    [theme=dark] .colab-df-convert:hover {\n",
              "      background-color: #434B5C;\n",
              "      box-shadow: 0px 1px 3px 1px rgba(0, 0, 0, 0.15);\n",
              "      filter: drop-shadow(0px 1px 2px rgba(0, 0, 0, 0.3));\n",
              "      fill: #FFFFFF;\n",
              "    }\n",
              "  </style>\n",
              "\n",
              "      <script>\n",
              "        const buttonEl =\n",
              "          document.querySelector('#df-5d0c6726-dd6b-4373-ab8b-cfdb997bd9db button.colab-df-convert');\n",
              "        buttonEl.style.display =\n",
              "          google.colab.kernel.accessAllowed ? 'block' : 'none';\n",
              "\n",
              "        async function convertToInteractive(key) {\n",
              "          const element = document.querySelector('#df-5d0c6726-dd6b-4373-ab8b-cfdb997bd9db');\n",
              "          const dataTable =\n",
              "            await google.colab.kernel.invokeFunction('convertToInteractive',\n",
              "                                                     [key], {});\n",
              "          if (!dataTable) return;\n",
              "\n",
              "          const docLinkHtml = 'Like what you see? Visit the ' +\n",
              "            '<a target=\"_blank\" href=https://colab.research.google.com/notebooks/data_table.ipynb>data table notebook</a>'\n",
              "            + ' to learn more about interactive tables.';\n",
              "          element.innerHTML = '';\n",
              "          dataTable['output_type'] = 'display_data';\n",
              "          await google.colab.output.renderOutput(dataTable, element);\n",
              "          const docLink = document.createElement('div');\n",
              "          docLink.innerHTML = docLinkHtml;\n",
              "          element.appendChild(docLink);\n",
              "        }\n",
              "      </script>\n",
              "    </div>\n",
              "  </div>\n",
              "  "
            ]
          },
          "metadata": {},
          "execution_count": 99
        }
      ],
      "source": [
        "dataframe_list[7]"
      ]
    },
    {
      "cell_type": "markdown",
      "metadata": {
        "id": "0ilyvhe1SdXG"
      },
      "source": [
        "We can also use the `match` parameter to select the specific table we want. If the table contains a string matching the text it will be read.\n"
      ]
    },
    {
      "cell_type": "code",
      "execution_count": 100,
      "metadata": {
        "id": "a1N6SQh-SdXG",
        "outputId": "b3687b74-7c6e-4ad2-ab4e-59307638faad",
        "colab": {
          "base_uri": "https://localhost:8080/",
          "height": 206
        }
      },
      "outputs": [
        {
          "output_type": "execute_result",
          "data": {
            "text/plain": [
              "                         Category Global ranking   References\n",
              "0                            Area            7th         [45]\n",
              "1                      Population            2nd         [45]\n",
              "2          Population growth rate   102nd of 212  in 2010[46]\n",
              "3              Population density    24th of 212  in 2010[46]\n",
              "4  Male to Female ratio, at birth    12th of 214  in 2009[47]"
            ],
            "text/html": [
              "\n",
              "  <div id=\"df-4d62d381-dbea-43b5-9431-48b3d9ee2486\">\n",
              "    <div class=\"colab-df-container\">\n",
              "      <div>\n",
              "<style scoped>\n",
              "    .dataframe tbody tr th:only-of-type {\n",
              "        vertical-align: middle;\n",
              "    }\n",
              "\n",
              "    .dataframe tbody tr th {\n",
              "        vertical-align: top;\n",
              "    }\n",
              "\n",
              "    .dataframe thead th {\n",
              "        text-align: right;\n",
              "    }\n",
              "</style>\n",
              "<table border=\"1\" class=\"dataframe\">\n",
              "  <thead>\n",
              "    <tr style=\"text-align: right;\">\n",
              "      <th></th>\n",
              "      <th>Category</th>\n",
              "      <th>Global ranking</th>\n",
              "      <th>References</th>\n",
              "    </tr>\n",
              "  </thead>\n",
              "  <tbody>\n",
              "    <tr>\n",
              "      <th>0</th>\n",
              "      <td>Area</td>\n",
              "      <td>7th</td>\n",
              "      <td>[45]</td>\n",
              "    </tr>\n",
              "    <tr>\n",
              "      <th>1</th>\n",
              "      <td>Population</td>\n",
              "      <td>2nd</td>\n",
              "      <td>[45]</td>\n",
              "    </tr>\n",
              "    <tr>\n",
              "      <th>2</th>\n",
              "      <td>Population growth rate</td>\n",
              "      <td>102nd of 212</td>\n",
              "      <td>in 2010[46]</td>\n",
              "    </tr>\n",
              "    <tr>\n",
              "      <th>3</th>\n",
              "      <td>Population density</td>\n",
              "      <td>24th of 212</td>\n",
              "      <td>in 2010[46]</td>\n",
              "    </tr>\n",
              "    <tr>\n",
              "      <th>4</th>\n",
              "      <td>Male to Female ratio, at birth</td>\n",
              "      <td>12th of 214</td>\n",
              "      <td>in 2009[47]</td>\n",
              "    </tr>\n",
              "  </tbody>\n",
              "</table>\n",
              "</div>\n",
              "      <button class=\"colab-df-convert\" onclick=\"convertToInteractive('df-4d62d381-dbea-43b5-9431-48b3d9ee2486')\"\n",
              "              title=\"Convert this dataframe to an interactive table.\"\n",
              "              style=\"display:none;\">\n",
              "        \n",
              "  <svg xmlns=\"http://www.w3.org/2000/svg\" height=\"24px\"viewBox=\"0 0 24 24\"\n",
              "       width=\"24px\">\n",
              "    <path d=\"M0 0h24v24H0V0z\" fill=\"none\"/>\n",
              "    <path d=\"M18.56 5.44l.94 2.06.94-2.06 2.06-.94-2.06-.94-.94-2.06-.94 2.06-2.06.94zm-11 1L8.5 8.5l.94-2.06 2.06-.94-2.06-.94L8.5 2.5l-.94 2.06-2.06.94zm10 10l.94 2.06.94-2.06 2.06-.94-2.06-.94-.94-2.06-.94 2.06-2.06.94z\"/><path d=\"M17.41 7.96l-1.37-1.37c-.4-.4-.92-.59-1.43-.59-.52 0-1.04.2-1.43.59L10.3 9.45l-7.72 7.72c-.78.78-.78 2.05 0 2.83L4 21.41c.39.39.9.59 1.41.59.51 0 1.02-.2 1.41-.59l7.78-7.78 2.81-2.81c.8-.78.8-2.07 0-2.86zM5.41 20L4 18.59l7.72-7.72 1.47 1.35L5.41 20z\"/>\n",
              "  </svg>\n",
              "      </button>\n",
              "      \n",
              "  <style>\n",
              "    .colab-df-container {\n",
              "      display:flex;\n",
              "      flex-wrap:wrap;\n",
              "      gap: 12px;\n",
              "    }\n",
              "\n",
              "    .colab-df-convert {\n",
              "      background-color: #E8F0FE;\n",
              "      border: none;\n",
              "      border-radius: 50%;\n",
              "      cursor: pointer;\n",
              "      display: none;\n",
              "      fill: #1967D2;\n",
              "      height: 32px;\n",
              "      padding: 0 0 0 0;\n",
              "      width: 32px;\n",
              "    }\n",
              "\n",
              "    .colab-df-convert:hover {\n",
              "      background-color: #E2EBFA;\n",
              "      box-shadow: 0px 1px 2px rgba(60, 64, 67, 0.3), 0px 1px 3px 1px rgba(60, 64, 67, 0.15);\n",
              "      fill: #174EA6;\n",
              "    }\n",
              "\n",
              "    [theme=dark] .colab-df-convert {\n",
              "      background-color: #3B4455;\n",
              "      fill: #D2E3FC;\n",
              "    }\n",
              "\n",
              "    [theme=dark] .colab-df-convert:hover {\n",
              "      background-color: #434B5C;\n",
              "      box-shadow: 0px 1px 3px 1px rgba(0, 0, 0, 0.15);\n",
              "      filter: drop-shadow(0px 1px 2px rgba(0, 0, 0, 0.3));\n",
              "      fill: #FFFFFF;\n",
              "    }\n",
              "  </style>\n",
              "\n",
              "      <script>\n",
              "        const buttonEl =\n",
              "          document.querySelector('#df-4d62d381-dbea-43b5-9431-48b3d9ee2486 button.colab-df-convert');\n",
              "        buttonEl.style.display =\n",
              "          google.colab.kernel.accessAllowed ? 'block' : 'none';\n",
              "\n",
              "        async function convertToInteractive(key) {\n",
              "          const element = document.querySelector('#df-4d62d381-dbea-43b5-9431-48b3d9ee2486');\n",
              "          const dataTable =\n",
              "            await google.colab.kernel.invokeFunction('convertToInteractive',\n",
              "                                                     [key], {});\n",
              "          if (!dataTable) return;\n",
              "\n",
              "          const docLinkHtml = 'Like what you see? Visit the ' +\n",
              "            '<a target=\"_blank\" href=https://colab.research.google.com/notebooks/data_table.ipynb>data table notebook</a>'\n",
              "            + ' to learn more about interactive tables.';\n",
              "          element.innerHTML = '';\n",
              "          dataTable['output_type'] = 'display_data';\n",
              "          await google.colab.output.renderOutput(dataTable, element);\n",
              "          const docLink = document.createElement('div');\n",
              "          docLink.innerHTML = docLinkHtml;\n",
              "          element.appendChild(docLink);\n",
              "        }\n",
              "      </script>\n",
              "    </div>\n",
              "  </div>\n",
              "  "
            ]
          },
          "metadata": {},
          "execution_count": 100
        }
      ],
      "source": [
        "pd.read_html(url, match=\"Comparative demographics\", flavor='bs4')[0]"
      ]
    },
    {
      "cell_type": "code",
      "source": [
        ""
      ],
      "metadata": {
        "id": "COk76Wi2fz5L"
      },
      "execution_count": null,
      "outputs": []
    }
  ],
  "metadata": {
    "kernelspec": {
      "display_name": "Python",
      "language": "python",
      "name": "conda-env-python-py"
    },
    "language_info": {
      "codemirror_mode": {
        "name": "ipython",
        "version": 3
      },
      "file_extension": ".py",
      "mimetype": "text/x-python",
      "name": "python",
      "nbconvert_exporter": "python",
      "pygments_lexer": "ipython3",
      "version": "3.7.10"
    },
    "colab": {
      "name": "Web scraping  for Data Analytics",
      "provenance": []
    }
  },
  "nbformat": 4,
  "nbformat_minor": 0
}